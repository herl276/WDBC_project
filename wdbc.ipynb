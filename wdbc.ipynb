{
  "nbformat": 4,
  "nbformat_minor": 0,
  "metadata": {
    "colab": {
      "provenance": []
    },
    "kernelspec": {
      "name": "python3",
      "display_name": "Python 3"
    },
    "language_info": {
      "name": "python"
    }
  },
  "cells": [
    {
      "cell_type": "markdown",
      "source": [
        "# dataset"
      ],
      "metadata": {
        "id": "ALa7yuubT-BK"
      }
    },
    {
      "cell_type": "code",
      "source": [
        "!pip install ucimlrepo"
      ],
      "metadata": {
        "id": "RvSS-1HWUDpD",
        "colab": {
          "base_uri": "https://localhost:8080/"
        },
        "outputId": "dfcd8b22-c4f7-4ea8-9a6f-a0c473fc24b0"
      },
      "execution_count": null,
      "outputs": [
        {
          "output_type": "stream",
          "name": "stdout",
          "text": [
            "Collecting ucimlrepo\n",
            "  Downloading ucimlrepo-0.0.6-py3-none-any.whl (8.0 kB)\n",
            "Installing collected packages: ucimlrepo\n",
            "Successfully installed ucimlrepo-0.0.6\n"
          ]
        }
      ]
    },
    {
      "cell_type": "code",
      "source": [
        "from ucimlrepo import fetch_ucirepo\n",
        "\n",
        "# fetch dataset\n",
        "breast_cancer_wisconsin_diagnostic = fetch_ucirepo(id=17)\n",
        "\n",
        "df = breast_cancer_wisconsin_diagnostic.data.original\n",
        "df"
      ],
      "metadata": {
        "colab": {
          "base_uri": "https://localhost:8080/",
          "height": 444
        },
        "id": "qiO0jy7PUHWI",
        "outputId": "86fb7a9d-2fb9-4068-eeda-08fccfdc63d9"
      },
      "execution_count": null,
      "outputs": [
        {
          "output_type": "execute_result",
          "data": {
            "text/plain": [
              "           ID  radius1  texture1  perimeter1   area1  smoothness1  \\\n",
              "0      842302    17.99     10.38      122.80  1001.0      0.11840   \n",
              "1      842517    20.57     17.77      132.90  1326.0      0.08474   \n",
              "2    84300903    19.69     21.25      130.00  1203.0      0.10960   \n",
              "3    84348301    11.42     20.38       77.58   386.1      0.14250   \n",
              "4    84358402    20.29     14.34      135.10  1297.0      0.10030   \n",
              "..        ...      ...       ...         ...     ...          ...   \n",
              "564    926424    21.56     22.39      142.00  1479.0      0.11100   \n",
              "565    926682    20.13     28.25      131.20  1261.0      0.09780   \n",
              "566    926954    16.60     28.08      108.30   858.1      0.08455   \n",
              "567    927241    20.60     29.33      140.10  1265.0      0.11780   \n",
              "568     92751     7.76     24.54       47.92   181.0      0.05263   \n",
              "\n",
              "     compactness1  concavity1  concave_points1  symmetry1  ...  texture3  \\\n",
              "0         0.27760     0.30010          0.14710     0.2419  ...     17.33   \n",
              "1         0.07864     0.08690          0.07017     0.1812  ...     23.41   \n",
              "2         0.15990     0.19740          0.12790     0.2069  ...     25.53   \n",
              "3         0.28390     0.24140          0.10520     0.2597  ...     26.50   \n",
              "4         0.13280     0.19800          0.10430     0.1809  ...     16.67   \n",
              "..            ...         ...              ...        ...  ...       ...   \n",
              "564       0.11590     0.24390          0.13890     0.1726  ...     26.40   \n",
              "565       0.10340     0.14400          0.09791     0.1752  ...     38.25   \n",
              "566       0.10230     0.09251          0.05302     0.1590  ...     34.12   \n",
              "567       0.27700     0.35140          0.15200     0.2397  ...     39.42   \n",
              "568       0.04362     0.00000          0.00000     0.1587  ...     30.37   \n",
              "\n",
              "     perimeter3   area3  smoothness3  compactness3  concavity3  \\\n",
              "0        184.60  2019.0      0.16220       0.66560      0.7119   \n",
              "1        158.80  1956.0      0.12380       0.18660      0.2416   \n",
              "2        152.50  1709.0      0.14440       0.42450      0.4504   \n",
              "3         98.87   567.7      0.20980       0.86630      0.6869   \n",
              "4        152.20  1575.0      0.13740       0.20500      0.4000   \n",
              "..          ...     ...          ...           ...         ...   \n",
              "564      166.10  2027.0      0.14100       0.21130      0.4107   \n",
              "565      155.00  1731.0      0.11660       0.19220      0.3215   \n",
              "566      126.70  1124.0      0.11390       0.30940      0.3403   \n",
              "567      184.60  1821.0      0.16500       0.86810      0.9387   \n",
              "568       59.16   268.6      0.08996       0.06444      0.0000   \n",
              "\n",
              "     concave_points3  symmetry3  fractal_dimension3  Diagnosis  \n",
              "0             0.2654     0.4601             0.11890          M  \n",
              "1             0.1860     0.2750             0.08902          M  \n",
              "2             0.2430     0.3613             0.08758          M  \n",
              "3             0.2575     0.6638             0.17300          M  \n",
              "4             0.1625     0.2364             0.07678          M  \n",
              "..               ...        ...                 ...        ...  \n",
              "564           0.2216     0.2060             0.07115          M  \n",
              "565           0.1628     0.2572             0.06637          M  \n",
              "566           0.1418     0.2218             0.07820          M  \n",
              "567           0.2650     0.4087             0.12400          M  \n",
              "568           0.0000     0.2871             0.07039          B  \n",
              "\n",
              "[569 rows x 32 columns]"
            ],
            "text/html": [
              "\n",
              "  <div id=\"df-2a816c78-657c-4ef8-b9e2-214202429e5b\" class=\"colab-df-container\">\n",
              "    <div>\n",
              "<style scoped>\n",
              "    .dataframe tbody tr th:only-of-type {\n",
              "        vertical-align: middle;\n",
              "    }\n",
              "\n",
              "    .dataframe tbody tr th {\n",
              "        vertical-align: top;\n",
              "    }\n",
              "\n",
              "    .dataframe thead th {\n",
              "        text-align: right;\n",
              "    }\n",
              "</style>\n",
              "<table border=\"1\" class=\"dataframe\">\n",
              "  <thead>\n",
              "    <tr style=\"text-align: right;\">\n",
              "      <th></th>\n",
              "      <th>ID</th>\n",
              "      <th>radius1</th>\n",
              "      <th>texture1</th>\n",
              "      <th>perimeter1</th>\n",
              "      <th>area1</th>\n",
              "      <th>smoothness1</th>\n",
              "      <th>compactness1</th>\n",
              "      <th>concavity1</th>\n",
              "      <th>concave_points1</th>\n",
              "      <th>symmetry1</th>\n",
              "      <th>...</th>\n",
              "      <th>texture3</th>\n",
              "      <th>perimeter3</th>\n",
              "      <th>area3</th>\n",
              "      <th>smoothness3</th>\n",
              "      <th>compactness3</th>\n",
              "      <th>concavity3</th>\n",
              "      <th>concave_points3</th>\n",
              "      <th>symmetry3</th>\n",
              "      <th>fractal_dimension3</th>\n",
              "      <th>Diagnosis</th>\n",
              "    </tr>\n",
              "  </thead>\n",
              "  <tbody>\n",
              "    <tr>\n",
              "      <th>0</th>\n",
              "      <td>842302</td>\n",
              "      <td>17.99</td>\n",
              "      <td>10.38</td>\n",
              "      <td>122.80</td>\n",
              "      <td>1001.0</td>\n",
              "      <td>0.11840</td>\n",
              "      <td>0.27760</td>\n",
              "      <td>0.30010</td>\n",
              "      <td>0.14710</td>\n",
              "      <td>0.2419</td>\n",
              "      <td>...</td>\n",
              "      <td>17.33</td>\n",
              "      <td>184.60</td>\n",
              "      <td>2019.0</td>\n",
              "      <td>0.16220</td>\n",
              "      <td>0.66560</td>\n",
              "      <td>0.7119</td>\n",
              "      <td>0.2654</td>\n",
              "      <td>0.4601</td>\n",
              "      <td>0.11890</td>\n",
              "      <td>M</td>\n",
              "    </tr>\n",
              "    <tr>\n",
              "      <th>1</th>\n",
              "      <td>842517</td>\n",
              "      <td>20.57</td>\n",
              "      <td>17.77</td>\n",
              "      <td>132.90</td>\n",
              "      <td>1326.0</td>\n",
              "      <td>0.08474</td>\n",
              "      <td>0.07864</td>\n",
              "      <td>0.08690</td>\n",
              "      <td>0.07017</td>\n",
              "      <td>0.1812</td>\n",
              "      <td>...</td>\n",
              "      <td>23.41</td>\n",
              "      <td>158.80</td>\n",
              "      <td>1956.0</td>\n",
              "      <td>0.12380</td>\n",
              "      <td>0.18660</td>\n",
              "      <td>0.2416</td>\n",
              "      <td>0.1860</td>\n",
              "      <td>0.2750</td>\n",
              "      <td>0.08902</td>\n",
              "      <td>M</td>\n",
              "    </tr>\n",
              "    <tr>\n",
              "      <th>2</th>\n",
              "      <td>84300903</td>\n",
              "      <td>19.69</td>\n",
              "      <td>21.25</td>\n",
              "      <td>130.00</td>\n",
              "      <td>1203.0</td>\n",
              "      <td>0.10960</td>\n",
              "      <td>0.15990</td>\n",
              "      <td>0.19740</td>\n",
              "      <td>0.12790</td>\n",
              "      <td>0.2069</td>\n",
              "      <td>...</td>\n",
              "      <td>25.53</td>\n",
              "      <td>152.50</td>\n",
              "      <td>1709.0</td>\n",
              "      <td>0.14440</td>\n",
              "      <td>0.42450</td>\n",
              "      <td>0.4504</td>\n",
              "      <td>0.2430</td>\n",
              "      <td>0.3613</td>\n",
              "      <td>0.08758</td>\n",
              "      <td>M</td>\n",
              "    </tr>\n",
              "    <tr>\n",
              "      <th>3</th>\n",
              "      <td>84348301</td>\n",
              "      <td>11.42</td>\n",
              "      <td>20.38</td>\n",
              "      <td>77.58</td>\n",
              "      <td>386.1</td>\n",
              "      <td>0.14250</td>\n",
              "      <td>0.28390</td>\n",
              "      <td>0.24140</td>\n",
              "      <td>0.10520</td>\n",
              "      <td>0.2597</td>\n",
              "      <td>...</td>\n",
              "      <td>26.50</td>\n",
              "      <td>98.87</td>\n",
              "      <td>567.7</td>\n",
              "      <td>0.20980</td>\n",
              "      <td>0.86630</td>\n",
              "      <td>0.6869</td>\n",
              "      <td>0.2575</td>\n",
              "      <td>0.6638</td>\n",
              "      <td>0.17300</td>\n",
              "      <td>M</td>\n",
              "    </tr>\n",
              "    <tr>\n",
              "      <th>4</th>\n",
              "      <td>84358402</td>\n",
              "      <td>20.29</td>\n",
              "      <td>14.34</td>\n",
              "      <td>135.10</td>\n",
              "      <td>1297.0</td>\n",
              "      <td>0.10030</td>\n",
              "      <td>0.13280</td>\n",
              "      <td>0.19800</td>\n",
              "      <td>0.10430</td>\n",
              "      <td>0.1809</td>\n",
              "      <td>...</td>\n",
              "      <td>16.67</td>\n",
              "      <td>152.20</td>\n",
              "      <td>1575.0</td>\n",
              "      <td>0.13740</td>\n",
              "      <td>0.20500</td>\n",
              "      <td>0.4000</td>\n",
              "      <td>0.1625</td>\n",
              "      <td>0.2364</td>\n",
              "      <td>0.07678</td>\n",
              "      <td>M</td>\n",
              "    </tr>\n",
              "    <tr>\n",
              "      <th>...</th>\n",
              "      <td>...</td>\n",
              "      <td>...</td>\n",
              "      <td>...</td>\n",
              "      <td>...</td>\n",
              "      <td>...</td>\n",
              "      <td>...</td>\n",
              "      <td>...</td>\n",
              "      <td>...</td>\n",
              "      <td>...</td>\n",
              "      <td>...</td>\n",
              "      <td>...</td>\n",
              "      <td>...</td>\n",
              "      <td>...</td>\n",
              "      <td>...</td>\n",
              "      <td>...</td>\n",
              "      <td>...</td>\n",
              "      <td>...</td>\n",
              "      <td>...</td>\n",
              "      <td>...</td>\n",
              "      <td>...</td>\n",
              "      <td>...</td>\n",
              "    </tr>\n",
              "    <tr>\n",
              "      <th>564</th>\n",
              "      <td>926424</td>\n",
              "      <td>21.56</td>\n",
              "      <td>22.39</td>\n",
              "      <td>142.00</td>\n",
              "      <td>1479.0</td>\n",
              "      <td>0.11100</td>\n",
              "      <td>0.11590</td>\n",
              "      <td>0.24390</td>\n",
              "      <td>0.13890</td>\n",
              "      <td>0.1726</td>\n",
              "      <td>...</td>\n",
              "      <td>26.40</td>\n",
              "      <td>166.10</td>\n",
              "      <td>2027.0</td>\n",
              "      <td>0.14100</td>\n",
              "      <td>0.21130</td>\n",
              "      <td>0.4107</td>\n",
              "      <td>0.2216</td>\n",
              "      <td>0.2060</td>\n",
              "      <td>0.07115</td>\n",
              "      <td>M</td>\n",
              "    </tr>\n",
              "    <tr>\n",
              "      <th>565</th>\n",
              "      <td>926682</td>\n",
              "      <td>20.13</td>\n",
              "      <td>28.25</td>\n",
              "      <td>131.20</td>\n",
              "      <td>1261.0</td>\n",
              "      <td>0.09780</td>\n",
              "      <td>0.10340</td>\n",
              "      <td>0.14400</td>\n",
              "      <td>0.09791</td>\n",
              "      <td>0.1752</td>\n",
              "      <td>...</td>\n",
              "      <td>38.25</td>\n",
              "      <td>155.00</td>\n",
              "      <td>1731.0</td>\n",
              "      <td>0.11660</td>\n",
              "      <td>0.19220</td>\n",
              "      <td>0.3215</td>\n",
              "      <td>0.1628</td>\n",
              "      <td>0.2572</td>\n",
              "      <td>0.06637</td>\n",
              "      <td>M</td>\n",
              "    </tr>\n",
              "    <tr>\n",
              "      <th>566</th>\n",
              "      <td>926954</td>\n",
              "      <td>16.60</td>\n",
              "      <td>28.08</td>\n",
              "      <td>108.30</td>\n",
              "      <td>858.1</td>\n",
              "      <td>0.08455</td>\n",
              "      <td>0.10230</td>\n",
              "      <td>0.09251</td>\n",
              "      <td>0.05302</td>\n",
              "      <td>0.1590</td>\n",
              "      <td>...</td>\n",
              "      <td>34.12</td>\n",
              "      <td>126.70</td>\n",
              "      <td>1124.0</td>\n",
              "      <td>0.11390</td>\n",
              "      <td>0.30940</td>\n",
              "      <td>0.3403</td>\n",
              "      <td>0.1418</td>\n",
              "      <td>0.2218</td>\n",
              "      <td>0.07820</td>\n",
              "      <td>M</td>\n",
              "    </tr>\n",
              "    <tr>\n",
              "      <th>567</th>\n",
              "      <td>927241</td>\n",
              "      <td>20.60</td>\n",
              "      <td>29.33</td>\n",
              "      <td>140.10</td>\n",
              "      <td>1265.0</td>\n",
              "      <td>0.11780</td>\n",
              "      <td>0.27700</td>\n",
              "      <td>0.35140</td>\n",
              "      <td>0.15200</td>\n",
              "      <td>0.2397</td>\n",
              "      <td>...</td>\n",
              "      <td>39.42</td>\n",
              "      <td>184.60</td>\n",
              "      <td>1821.0</td>\n",
              "      <td>0.16500</td>\n",
              "      <td>0.86810</td>\n",
              "      <td>0.9387</td>\n",
              "      <td>0.2650</td>\n",
              "      <td>0.4087</td>\n",
              "      <td>0.12400</td>\n",
              "      <td>M</td>\n",
              "    </tr>\n",
              "    <tr>\n",
              "      <th>568</th>\n",
              "      <td>92751</td>\n",
              "      <td>7.76</td>\n",
              "      <td>24.54</td>\n",
              "      <td>47.92</td>\n",
              "      <td>181.0</td>\n",
              "      <td>0.05263</td>\n",
              "      <td>0.04362</td>\n",
              "      <td>0.00000</td>\n",
              "      <td>0.00000</td>\n",
              "      <td>0.1587</td>\n",
              "      <td>...</td>\n",
              "      <td>30.37</td>\n",
              "      <td>59.16</td>\n",
              "      <td>268.6</td>\n",
              "      <td>0.08996</td>\n",
              "      <td>0.06444</td>\n",
              "      <td>0.0000</td>\n",
              "      <td>0.0000</td>\n",
              "      <td>0.2871</td>\n",
              "      <td>0.07039</td>\n",
              "      <td>B</td>\n",
              "    </tr>\n",
              "  </tbody>\n",
              "</table>\n",
              "<p>569 rows × 32 columns</p>\n",
              "</div>\n",
              "    <div class=\"colab-df-buttons\">\n",
              "\n",
              "  <div class=\"colab-df-container\">\n",
              "    <button class=\"colab-df-convert\" onclick=\"convertToInteractive('df-2a816c78-657c-4ef8-b9e2-214202429e5b')\"\n",
              "            title=\"Convert this dataframe to an interactive table.\"\n",
              "            style=\"display:none;\">\n",
              "\n",
              "  <svg xmlns=\"http://www.w3.org/2000/svg\" height=\"24px\" viewBox=\"0 -960 960 960\">\n",
              "    <path d=\"M120-120v-720h720v720H120Zm60-500h600v-160H180v160Zm220 220h160v-160H400v160Zm0 220h160v-160H400v160ZM180-400h160v-160H180v160Zm440 0h160v-160H620v160ZM180-180h160v-160H180v160Zm440 0h160v-160H620v160Z\"/>\n",
              "  </svg>\n",
              "    </button>\n",
              "\n",
              "  <style>\n",
              "    .colab-df-container {\n",
              "      display:flex;\n",
              "      gap: 12px;\n",
              "    }\n",
              "\n",
              "    .colab-df-convert {\n",
              "      background-color: #E8F0FE;\n",
              "      border: none;\n",
              "      border-radius: 50%;\n",
              "      cursor: pointer;\n",
              "      display: none;\n",
              "      fill: #1967D2;\n",
              "      height: 32px;\n",
              "      padding: 0 0 0 0;\n",
              "      width: 32px;\n",
              "    }\n",
              "\n",
              "    .colab-df-convert:hover {\n",
              "      background-color: #E2EBFA;\n",
              "      box-shadow: 0px 1px 2px rgba(60, 64, 67, 0.3), 0px 1px 3px 1px rgba(60, 64, 67, 0.15);\n",
              "      fill: #174EA6;\n",
              "    }\n",
              "\n",
              "    .colab-df-buttons div {\n",
              "      margin-bottom: 4px;\n",
              "    }\n",
              "\n",
              "    [theme=dark] .colab-df-convert {\n",
              "      background-color: #3B4455;\n",
              "      fill: #D2E3FC;\n",
              "    }\n",
              "\n",
              "    [theme=dark] .colab-df-convert:hover {\n",
              "      background-color: #434B5C;\n",
              "      box-shadow: 0px 1px 3px 1px rgba(0, 0, 0, 0.15);\n",
              "      filter: drop-shadow(0px 1px 2px rgba(0, 0, 0, 0.3));\n",
              "      fill: #FFFFFF;\n",
              "    }\n",
              "  </style>\n",
              "\n",
              "    <script>\n",
              "      const buttonEl =\n",
              "        document.querySelector('#df-2a816c78-657c-4ef8-b9e2-214202429e5b button.colab-df-convert');\n",
              "      buttonEl.style.display =\n",
              "        google.colab.kernel.accessAllowed ? 'block' : 'none';\n",
              "\n",
              "      async function convertToInteractive(key) {\n",
              "        const element = document.querySelector('#df-2a816c78-657c-4ef8-b9e2-214202429e5b');\n",
              "        const dataTable =\n",
              "          await google.colab.kernel.invokeFunction('convertToInteractive',\n",
              "                                                    [key], {});\n",
              "        if (!dataTable) return;\n",
              "\n",
              "        const docLinkHtml = 'Like what you see? Visit the ' +\n",
              "          '<a target=\"_blank\" href=https://colab.research.google.com/notebooks/data_table.ipynb>data table notebook</a>'\n",
              "          + ' to learn more about interactive tables.';\n",
              "        element.innerHTML = '';\n",
              "        dataTable['output_type'] = 'display_data';\n",
              "        await google.colab.output.renderOutput(dataTable, element);\n",
              "        const docLink = document.createElement('div');\n",
              "        docLink.innerHTML = docLinkHtml;\n",
              "        element.appendChild(docLink);\n",
              "      }\n",
              "    </script>\n",
              "  </div>\n",
              "\n",
              "\n",
              "<div id=\"df-aeb535b3-43a0-4a49-b75a-4949f9fc2159\">\n",
              "  <button class=\"colab-df-quickchart\" onclick=\"quickchart('df-aeb535b3-43a0-4a49-b75a-4949f9fc2159')\"\n",
              "            title=\"Suggest charts\"\n",
              "            style=\"display:none;\">\n",
              "\n",
              "<svg xmlns=\"http://www.w3.org/2000/svg\" height=\"24px\"viewBox=\"0 0 24 24\"\n",
              "     width=\"24px\">\n",
              "    <g>\n",
              "        <path d=\"M19 3H5c-1.1 0-2 .9-2 2v14c0 1.1.9 2 2 2h14c1.1 0 2-.9 2-2V5c0-1.1-.9-2-2-2zM9 17H7v-7h2v7zm4 0h-2V7h2v10zm4 0h-2v-4h2v4z\"/>\n",
              "    </g>\n",
              "</svg>\n",
              "  </button>\n",
              "\n",
              "<style>\n",
              "  .colab-df-quickchart {\n",
              "      --bg-color: #E8F0FE;\n",
              "      --fill-color: #1967D2;\n",
              "      --hover-bg-color: #E2EBFA;\n",
              "      --hover-fill-color: #174EA6;\n",
              "      --disabled-fill-color: #AAA;\n",
              "      --disabled-bg-color: #DDD;\n",
              "  }\n",
              "\n",
              "  [theme=dark] .colab-df-quickchart {\n",
              "      --bg-color: #3B4455;\n",
              "      --fill-color: #D2E3FC;\n",
              "      --hover-bg-color: #434B5C;\n",
              "      --hover-fill-color: #FFFFFF;\n",
              "      --disabled-bg-color: #3B4455;\n",
              "      --disabled-fill-color: #666;\n",
              "  }\n",
              "\n",
              "  .colab-df-quickchart {\n",
              "    background-color: var(--bg-color);\n",
              "    border: none;\n",
              "    border-radius: 50%;\n",
              "    cursor: pointer;\n",
              "    display: none;\n",
              "    fill: var(--fill-color);\n",
              "    height: 32px;\n",
              "    padding: 0;\n",
              "    width: 32px;\n",
              "  }\n",
              "\n",
              "  .colab-df-quickchart:hover {\n",
              "    background-color: var(--hover-bg-color);\n",
              "    box-shadow: 0 1px 2px rgba(60, 64, 67, 0.3), 0 1px 3px 1px rgba(60, 64, 67, 0.15);\n",
              "    fill: var(--button-hover-fill-color);\n",
              "  }\n",
              "\n",
              "  .colab-df-quickchart-complete:disabled,\n",
              "  .colab-df-quickchart-complete:disabled:hover {\n",
              "    background-color: var(--disabled-bg-color);\n",
              "    fill: var(--disabled-fill-color);\n",
              "    box-shadow: none;\n",
              "  }\n",
              "\n",
              "  .colab-df-spinner {\n",
              "    border: 2px solid var(--fill-color);\n",
              "    border-color: transparent;\n",
              "    border-bottom-color: var(--fill-color);\n",
              "    animation:\n",
              "      spin 1s steps(1) infinite;\n",
              "  }\n",
              "\n",
              "  @keyframes spin {\n",
              "    0% {\n",
              "      border-color: transparent;\n",
              "      border-bottom-color: var(--fill-color);\n",
              "      border-left-color: var(--fill-color);\n",
              "    }\n",
              "    20% {\n",
              "      border-color: transparent;\n",
              "      border-left-color: var(--fill-color);\n",
              "      border-top-color: var(--fill-color);\n",
              "    }\n",
              "    30% {\n",
              "      border-color: transparent;\n",
              "      border-left-color: var(--fill-color);\n",
              "      border-top-color: var(--fill-color);\n",
              "      border-right-color: var(--fill-color);\n",
              "    }\n",
              "    40% {\n",
              "      border-color: transparent;\n",
              "      border-right-color: var(--fill-color);\n",
              "      border-top-color: var(--fill-color);\n",
              "    }\n",
              "    60% {\n",
              "      border-color: transparent;\n",
              "      border-right-color: var(--fill-color);\n",
              "    }\n",
              "    80% {\n",
              "      border-color: transparent;\n",
              "      border-right-color: var(--fill-color);\n",
              "      border-bottom-color: var(--fill-color);\n",
              "    }\n",
              "    90% {\n",
              "      border-color: transparent;\n",
              "      border-bottom-color: var(--fill-color);\n",
              "    }\n",
              "  }\n",
              "</style>\n",
              "\n",
              "  <script>\n",
              "    async function quickchart(key) {\n",
              "      const quickchartButtonEl =\n",
              "        document.querySelector('#' + key + ' button');\n",
              "      quickchartButtonEl.disabled = true;  // To prevent multiple clicks.\n",
              "      quickchartButtonEl.classList.add('colab-df-spinner');\n",
              "      try {\n",
              "        const charts = await google.colab.kernel.invokeFunction(\n",
              "            'suggestCharts', [key], {});\n",
              "      } catch (error) {\n",
              "        console.error('Error during call to suggestCharts:', error);\n",
              "      }\n",
              "      quickchartButtonEl.classList.remove('colab-df-spinner');\n",
              "      quickchartButtonEl.classList.add('colab-df-quickchart-complete');\n",
              "    }\n",
              "    (() => {\n",
              "      let quickchartButtonEl =\n",
              "        document.querySelector('#df-aeb535b3-43a0-4a49-b75a-4949f9fc2159 button');\n",
              "      quickchartButtonEl.style.display =\n",
              "        google.colab.kernel.accessAllowed ? 'block' : 'none';\n",
              "    })();\n",
              "  </script>\n",
              "</div>\n",
              "    </div>\n",
              "  </div>\n"
            ],
            "application/vnd.google.colaboratory.intrinsic+json": {
              "type": "dataframe",
              "variable_name": "df"
            }
          },
          "metadata": {},
          "execution_count": 2
        }
      ]
    },
    {
      "cell_type": "markdown",
      "source": [
        "# preprocess"
      ],
      "metadata": {
        "id": "4Dgc_a_qJCpQ"
      }
    },
    {
      "cell_type": "code",
      "source": [
        "df.info()"
      ],
      "metadata": {
        "id": "dYsk8ZuP1gWV",
        "outputId": "7958698b-8d52-490f-c630-16950e195370",
        "colab": {
          "base_uri": "https://localhost:8080/"
        }
      },
      "execution_count": null,
      "outputs": [
        {
          "output_type": "stream",
          "name": "stdout",
          "text": [
            "<class 'pandas.core.frame.DataFrame'>\n",
            "RangeIndex: 569 entries, 0 to 568\n",
            "Data columns (total 32 columns):\n",
            " #   Column              Non-Null Count  Dtype  \n",
            "---  ------              --------------  -----  \n",
            " 0   ID                  569 non-null    int64  \n",
            " 1   radius1             569 non-null    float64\n",
            " 2   texture1            569 non-null    float64\n",
            " 3   perimeter1          569 non-null    float64\n",
            " 4   area1               569 non-null    float64\n",
            " 5   smoothness1         569 non-null    float64\n",
            " 6   compactness1        569 non-null    float64\n",
            " 7   concavity1          569 non-null    float64\n",
            " 8   concave_points1     569 non-null    float64\n",
            " 9   symmetry1           569 non-null    float64\n",
            " 10  fractal_dimension1  569 non-null    float64\n",
            " 11  radius2             569 non-null    float64\n",
            " 12  texture2            569 non-null    float64\n",
            " 13  perimeter2          569 non-null    float64\n",
            " 14  area2               569 non-null    float64\n",
            " 15  smoothness2         569 non-null    float64\n",
            " 16  compactness2        569 non-null    float64\n",
            " 17  concavity2          569 non-null    float64\n",
            " 18  concave_points2     569 non-null    float64\n",
            " 19  symmetry2           569 non-null    float64\n",
            " 20  fractal_dimension2  569 non-null    float64\n",
            " 21  radius3             569 non-null    float64\n",
            " 22  texture3            569 non-null    float64\n",
            " 23  perimeter3          569 non-null    float64\n",
            " 24  area3               569 non-null    float64\n",
            " 25  smoothness3         569 non-null    float64\n",
            " 26  compactness3        569 non-null    float64\n",
            " 27  concavity3          569 non-null    float64\n",
            " 28  concave_points3     569 non-null    float64\n",
            " 29  symmetry3           569 non-null    float64\n",
            " 30  fractal_dimension3  569 non-null    float64\n",
            " 31  Diagnosis           569 non-null    object \n",
            "dtypes: float64(30), int64(1), object(1)\n",
            "memory usage: 142.4+ KB\n"
          ]
        }
      ]
    },
    {
      "cell_type": "code",
      "source": [
        "# drop kolom selain fitur\n",
        "X = df.drop(['ID', 'Diagnosis'], axis=1)\n",
        "y = df['Diagnosis']"
      ],
      "metadata": {
        "id": "S6Gz9g8EJKUJ"
      },
      "execution_count": null,
      "outputs": []
    },
    {
      "cell_type": "code",
      "source": [
        "print(\"Fitur:\", X.shape, \"Kelas:\", y.shape)\n",
        "print(df['Diagnosis'].value_counts())"
      ],
      "metadata": {
        "colab": {
          "base_uri": "https://localhost:8080/"
        },
        "id": "37qmZ0ceCZnY",
        "outputId": "39f8eb6f-cbe3-46e9-99e3-cb4fe73c2630"
      },
      "execution_count": null,
      "outputs": [
        {
          "output_type": "stream",
          "name": "stdout",
          "text": [
            "Fitur: (569, 30) Kelas: (569,)\n",
            "Diagnosis\n",
            "B    357\n",
            "M    212\n",
            "Name: count, dtype: int64\n"
          ]
        }
      ]
    },
    {
      "cell_type": "markdown",
      "source": [
        "# SVM (semua fitur)"
      ],
      "metadata": {
        "id": "Xo8KyYtcPygj"
      }
    },
    {
      "cell_type": "code",
      "source": [
        "from sklearn.model_selection import train_test_split\n",
        "from sklearn.svm import SVC\n",
        "from sklearn.metrics import classification_report"
      ],
      "metadata": {
        "id": "En5onaZp0u4O"
      },
      "execution_count": null,
      "outputs": []
    },
    {
      "cell_type": "markdown",
      "source": [
        "**skenario 1 (split 90:10)**"
      ],
      "metadata": {
        "id": "IN0dgo5NP99I"
      }
    },
    {
      "cell_type": "code",
      "source": [
        "X_train, X_test, y_train, y_test = train_test_split(X, y,\n",
        "                                                    test_size=0.1,\n",
        "                                                    random_state=2)\n",
        "\n",
        "print(f\"Train size: {len(X_train)}, Test size: {len(X_test)}\")\n",
        "\n",
        "model = SVC(kernel='linear')\n",
        "model.fit(X_train, y_train)\n",
        "\n",
        "y_predict = model.predict(X_test)\n",
        "print(classification_report(y_test, y_predict))"
      ],
      "metadata": {
        "colab": {
          "base_uri": "https://localhost:8080/"
        },
        "id": "XctuNAX9TorP",
        "outputId": "f108bd04-40eb-4982-d687-915132e0b500"
      },
      "execution_count": null,
      "outputs": [
        {
          "output_type": "stream",
          "name": "stdout",
          "text": [
            "Train size: 512, Test size: 57\n",
            "              precision    recall  f1-score   support\n",
            "\n",
            "           B       0.97      1.00      0.99        39\n",
            "           M       1.00      0.94      0.97        18\n",
            "\n",
            "    accuracy                           0.98        57\n",
            "   macro avg       0.99      0.97      0.98        57\n",
            "weighted avg       0.98      0.98      0.98        57\n",
            "\n"
          ]
        }
      ]
    },
    {
      "cell_type": "markdown",
      "source": [
        "**skenario 2 (split 80:20)**"
      ],
      "metadata": {
        "id": "8N-YUs6qQHN4"
      }
    },
    {
      "cell_type": "code",
      "source": [
        "X_train, X_test, y_train, y_test = train_test_split(X, y,\n",
        "                                                    test_size=0.2,\n",
        "                                                    random_state=2)\n",
        "\n",
        "print(f\"Train size: {len(X_train)}, Test size: {len(X_test)}\")\n",
        "\n",
        "model = SVC(kernel='linear')\n",
        "model.fit(X_train, y_train)\n",
        "\n",
        "y_predict = model.predict(X_test)\n",
        "print(classification_report(y_test, y_predict))"
      ],
      "metadata": {
        "colab": {
          "base_uri": "https://localhost:8080/"
        },
        "id": "PAxzihVLRc6z",
        "outputId": "3f2f1191-160a-470a-b2fa-dac302e020a4"
      },
      "execution_count": null,
      "outputs": [
        {
          "output_type": "stream",
          "name": "stdout",
          "text": [
            "Train size: 455, Test size: 114\n",
            "              precision    recall  f1-score   support\n",
            "\n",
            "           B       0.96      0.96      0.96        69\n",
            "           M       0.93      0.93      0.93        45\n",
            "\n",
            "    accuracy                           0.95       114\n",
            "   macro avg       0.94      0.94      0.94       114\n",
            "weighted avg       0.95      0.95      0.95       114\n",
            "\n"
          ]
        }
      ]
    },
    {
      "cell_type": "markdown",
      "source": [
        "**skenario 3 (split 70:30)**"
      ],
      "metadata": {
        "id": "1LLHCFXERxbs"
      }
    },
    {
      "cell_type": "code",
      "source": [
        "X_train, X_test, y_train, y_test = train_test_split(X, y,\n",
        "                                                    test_size=0.3,\n",
        "                                                    random_state=2)\n",
        "\n",
        "print(f\"Train size: {len(X_train)}, Test size: {len(X_test)}\")\n",
        "\n",
        "model = SVC(kernel='linear')\n",
        "model.fit(X_train, y_train)\n",
        "\n",
        "y_predict = model.predict(X_test)\n",
        "print(classification_report(y_test, y_predict))"
      ],
      "metadata": {
        "colab": {
          "base_uri": "https://localhost:8080/"
        },
        "id": "7dGTVhe6R02B",
        "outputId": "b546315e-80c1-495e-8188-599be9966678"
      },
      "execution_count": null,
      "outputs": [
        {
          "output_type": "stream",
          "name": "stdout",
          "text": [
            "Train size: 398, Test size: 171\n",
            "              precision    recall  f1-score   support\n",
            "\n",
            "           B       0.95      0.97      0.96       104\n",
            "           M       0.95      0.93      0.94        67\n",
            "\n",
            "    accuracy                           0.95       171\n",
            "   macro avg       0.95      0.95      0.95       171\n",
            "weighted avg       0.95      0.95      0.95       171\n",
            "\n"
          ]
        }
      ]
    },
    {
      "cell_type": "markdown",
      "source": [
        "**skenario 4 (split 60:40)**"
      ],
      "metadata": {
        "id": "xGU57s7SR-kI"
      }
    },
    {
      "cell_type": "code",
      "source": [
        "X_train, X_test, y_train, y_test = train_test_split(X, y,\n",
        "                                                    test_size=0.4,\n",
        "                                                    random_state=2)\n",
        "\n",
        "print(f\"Train size: {len(X_train)}, Test size: {len(X_test)}\")\n",
        "\n",
        "model = SVC(kernel='linear')\n",
        "model.fit(X_train, y_train)\n",
        "\n",
        "y_predict = model.predict(X_test)\n",
        "print(classification_report(y_test, y_predict))"
      ],
      "metadata": {
        "colab": {
          "base_uri": "https://localhost:8080/"
        },
        "id": "EysZfCvhSA-X",
        "outputId": "5461f43f-6b40-441a-9dd9-537989447de0"
      },
      "execution_count": null,
      "outputs": [
        {
          "output_type": "stream",
          "name": "stdout",
          "text": [
            "Train size: 341, Test size: 228\n",
            "              precision    recall  f1-score   support\n",
            "\n",
            "           B       0.94      0.97      0.95       140\n",
            "           M       0.95      0.90      0.92        88\n",
            "\n",
            "    accuracy                           0.94       228\n",
            "   macro avg       0.94      0.93      0.94       228\n",
            "weighted avg       0.94      0.94      0.94       228\n",
            "\n"
          ]
        }
      ]
    },
    {
      "cell_type": "markdown",
      "source": [
        "# RFE test"
      ],
      "metadata": {
        "id": "LDQYC2ZEU_FD"
      }
    },
    {
      "cell_type": "code",
      "source": [
        "import pandas as pd\n",
        "from sklearn.svm import SVC\n",
        "from sklearn.feature_selection import RFE"
      ],
      "metadata": {
        "id": "Wu93AlXw1m5O"
      },
      "execution_count": null,
      "outputs": []
    },
    {
      "cell_type": "code",
      "source": [
        "X = df.drop(['ID', 'Diagnosis'], axis=1)\n",
        "y = df['Diagnosis']\n",
        "\n",
        "# SVM sebagai estimator\n",
        "estimator = SVC(kernel=\"linear\")\n",
        "\n",
        "# RFE dengan SVM\n",
        "model = RFE(estimator, n_features_to_select=1, step=1)\n",
        "model = model.fit(X, y)\n",
        "\n",
        "# dataframe baru untuk menampilkan hasil ranking fitur\n",
        "ranking_df = pd.DataFrame({'Fitur': X.columns,\n",
        "                           'Ranking': model.ranking_})\n",
        "\n",
        "print(ranking_df.sort_values(by='Ranking'))"
      ],
      "metadata": {
        "colab": {
          "base_uri": "https://localhost:8080/"
        },
        "id": "Kq7u_y6nSEAa",
        "outputId": "f3cfdc16-4a45-4c37-eb5c-bf2893dfda0e"
      },
      "execution_count": null,
      "outputs": [
        {
          "output_type": "stream",
          "name": "stdout",
          "text": [
            "                 Fitur  Ranking\n",
            "27     concave_points3        1\n",
            "26          concavity3        2\n",
            "28           symmetry3        3\n",
            "25        compactness3        4\n",
            "24         smoothness3        5\n",
            "11            texture2        6\n",
            "20             radius3        7\n",
            "0              radius1        8\n",
            "6           concavity1        9\n",
            "7      concave_points1       10\n",
            "8            symmetry1       11\n",
            "5         compactness1       12\n",
            "4          smoothness1       13\n",
            "12          perimeter2       14\n",
            "21            texture3       15\n",
            "2           perimeter1       16\n",
            "29  fractal_dimension3       17\n",
            "16          concavity2       18\n",
            "15        compactness2       19\n",
            "17     concave_points2       20\n",
            "1             texture1       21\n",
            "13               area2       22\n",
            "14         smoothness2       23\n",
            "22          perimeter3       24\n",
            "10             radius2       25\n",
            "19  fractal_dimension2       26\n",
            "9   fractal_dimension1       27\n",
            "18           symmetry2       28\n",
            "23               area3       29\n",
            "3                area1       30\n"
          ]
        }
      ]
    },
    {
      "cell_type": "markdown",
      "source": [
        "# **perlatihan model SVM (25 fitur)**"
      ],
      "metadata": {
        "id": "3L2RcyS3V0FI"
      }
    },
    {
      "cell_type": "markdown",
      "source": [
        "**skenario 1 (split 90:10)**"
      ],
      "metadata": {
        "id": "jqTnL60j7DxZ"
      }
    },
    {
      "cell_type": "code",
      "source": [
        "X = X.drop(['fractal_dimension2','fractal_dimension1','symmetry2',\n",
        "            'area3','area1'], axis=1)\n",
        "\n",
        "print(\"Fitur:\", X.shape, \"Kelas:\", y.shape)\n",
        "\n",
        "X_train, X_test, y_train, y_test = train_test_split(X, y,\n",
        "                                                    test_size=0.1,\n",
        "                                                    random_state=2)\n",
        "\n",
        "print(f\"Train size: {len(X_train)}, Test size: {len(X_test)}\")\n",
        "\n",
        "model = SVC(kernel='linear')\n",
        "model.fit(X_train, y_train)\n",
        "\n",
        "y_predict = model.predict(X_test)\n",
        "print(classification_report(y_test, y_predict))"
      ],
      "metadata": {
        "id": "c5df6VUQUap7",
        "colab": {
          "base_uri": "https://localhost:8080/"
        },
        "outputId": "7d8f64a0-068b-4a7d-c4f9-2f50959a01c6"
      },
      "execution_count": null,
      "outputs": [
        {
          "output_type": "stream",
          "name": "stdout",
          "text": [
            "Fitur: (569, 25) Kelas: (569,)\n",
            "Train size: 512, Test size: 57\n",
            "              precision    recall  f1-score   support\n",
            "\n",
            "           B       0.97      1.00      0.99        39\n",
            "           M       1.00      0.94      0.97        18\n",
            "\n",
            "    accuracy                           0.98        57\n",
            "   macro avg       0.99      0.97      0.98        57\n",
            "weighted avg       0.98      0.98      0.98        57\n",
            "\n"
          ]
        }
      ]
    },
    {
      "cell_type": "markdown",
      "source": [
        "**skenario 2 (split 80:20)**"
      ],
      "metadata": {
        "id": "pvjSeUGz-BVr"
      }
    },
    {
      "cell_type": "code",
      "source": [
        "print(\"Fitur:\", X.shape, \"Kelas:\", y.shape)\n",
        "\n",
        "X_train, X_test, y_train, y_test = train_test_split(X, y,\n",
        "                                                    test_size=0.2,\n",
        "                                                    random_state=2)\n",
        "\n",
        "print(f\"Train size: {len(X_train)}, Test size: {len(X_test)}\")\n",
        "\n",
        "model = SVC(kernel='linear')\n",
        "model.fit(X_train, y_train)\n",
        "\n",
        "y_predict = model.predict(X_test)\n",
        "print(classification_report(y_test, y_predict))"
      ],
      "metadata": {
        "colab": {
          "base_uri": "https://localhost:8080/"
        },
        "id": "rp6-9qzb8VCZ",
        "outputId": "d079ce4e-46df-49c1-cef6-e0fbaddf64a1"
      },
      "execution_count": null,
      "outputs": [
        {
          "output_type": "stream",
          "name": "stdout",
          "text": [
            "Fitur: (569, 25) Kelas: (569,)\n",
            "Train size: 455, Test size: 114\n",
            "              precision    recall  f1-score   support\n",
            "\n",
            "           B       0.96      0.96      0.96        69\n",
            "           M       0.93      0.93      0.93        45\n",
            "\n",
            "    accuracy                           0.95       114\n",
            "   macro avg       0.94      0.94      0.94       114\n",
            "weighted avg       0.95      0.95      0.95       114\n",
            "\n"
          ]
        }
      ]
    },
    {
      "cell_type": "markdown",
      "source": [
        "**skenario 3 (split 70:30)**"
      ],
      "metadata": {
        "id": "lD5npHqr-Et8"
      }
    },
    {
      "cell_type": "code",
      "source": [
        "print(\"Fitur:\", X.shape, \"Kelas:\", y.shape)\n",
        "\n",
        "X_train, X_test, y_train, y_test = train_test_split(X, y,\n",
        "                                                    test_size=0.3,\n",
        "                                                    random_state=2)\n",
        "\n",
        "print(f\"Train size: {len(X_train)}, Test size: {len(X_test)}\")\n",
        "\n",
        "model = SVC(kernel='linear')\n",
        "model.fit(X_train, y_train)\n",
        "\n",
        "y_predict = model.predict(X_test)\n",
        "print(classification_report(y_test, y_predict))"
      ],
      "metadata": {
        "colab": {
          "base_uri": "https://localhost:8080/"
        },
        "id": "jR7NQVbQ8hSC",
        "outputId": "8c2697af-e069-4ff3-dfdb-e8827dbde54e"
      },
      "execution_count": null,
      "outputs": [
        {
          "output_type": "stream",
          "name": "stdout",
          "text": [
            "Fitur: (569, 25) Kelas: (569,)\n",
            "Train size: 398, Test size: 171\n",
            "              precision    recall  f1-score   support\n",
            "\n",
            "           B       0.96      0.96      0.96       104\n",
            "           M       0.94      0.94      0.94        67\n",
            "\n",
            "    accuracy                           0.95       171\n",
            "   macro avg       0.95      0.95      0.95       171\n",
            "weighted avg       0.95      0.95      0.95       171\n",
            "\n"
          ]
        }
      ]
    },
    {
      "cell_type": "markdown",
      "source": [
        "**skenario 4 (split 60:40)**"
      ],
      "metadata": {
        "id": "JO2tSqol-Hhm"
      }
    },
    {
      "cell_type": "code",
      "source": [
        "print(\"Fitur:\", X.shape, \"Kelas:\", y.shape)\n",
        "\n",
        "X_train, X_test, y_train, y_test = train_test_split(X, y,\n",
        "                                                    test_size=0.4,\n",
        "                                                    random_state=2)\n",
        "\n",
        "print(f\"Train size: {len(X_train)}, Test size: {len(X_test)}\")\n",
        "\n",
        "model = SVC(kernel='linear')\n",
        "model.fit(X_train, y_train)\n",
        "\n",
        "y_predict = model.predict(X_test)\n",
        "print(classification_report(y_test, y_predict))"
      ],
      "metadata": {
        "colab": {
          "base_uri": "https://localhost:8080/"
        },
        "id": "LW_88Tmj8mEu",
        "outputId": "0081d9a6-0760-4ff2-bd7b-3ca01124db4d"
      },
      "execution_count": null,
      "outputs": [
        {
          "output_type": "stream",
          "name": "stdout",
          "text": [
            "Fitur: (569, 25) Kelas: (569,)\n",
            "Train size: 341, Test size: 228\n",
            "              precision    recall  f1-score   support\n",
            "\n",
            "           B       0.94      0.97      0.95       140\n",
            "           M       0.95      0.90      0.92        88\n",
            "\n",
            "    accuracy                           0.94       228\n",
            "   macro avg       0.94      0.93      0.94       228\n",
            "weighted avg       0.94      0.94      0.94       228\n",
            "\n"
          ]
        }
      ]
    },
    {
      "cell_type": "markdown",
      "source": [
        "# **perlatihan model SVM (20 fitur)**"
      ],
      "metadata": {
        "id": "176CpMoxX6yv"
      }
    },
    {
      "cell_type": "markdown",
      "source": [
        "**skenario 1 (split 90:10)**"
      ],
      "metadata": {
        "id": "CDauvL4N-Lnk"
      }
    },
    {
      "cell_type": "code",
      "source": [
        "X = X.drop(['texture1','area2','smoothness2',\n",
        "            'perimeter3','radius2'], axis=1)\n",
        "\n",
        "print(\"Fitur:\", X.shape, \"Kelas:\", y.shape)\n",
        "\n",
        "X_train, X_test, y_train, y_test = train_test_split(X, y,\n",
        "                                                    test_size=0.1,\n",
        "                                                    random_state=2)\n",
        "\n",
        "print(f\"Train size: {len(X_train)}, Test size: {len(X_test)}\")\n",
        "\n",
        "model = SVC(kernel='linear')\n",
        "model.fit(X_train, y_train)\n",
        "\n",
        "y_predict = model.predict(X_test)\n",
        "print(classification_report(y_test, y_predict))"
      ],
      "metadata": {
        "colab": {
          "base_uri": "https://localhost:8080/"
        },
        "id": "-mKy7l0EX80m",
        "outputId": "dc8bc27b-8a5d-4395-e2da-7e634f48ba9c"
      },
      "execution_count": null,
      "outputs": [
        {
          "output_type": "stream",
          "name": "stdout",
          "text": [
            "Fitur: (569, 20) Kelas: (569,)\n",
            "Train size: 512, Test size: 57\n",
            "              precision    recall  f1-score   support\n",
            "\n",
            "           B       0.97      1.00      0.99        39\n",
            "           M       1.00      0.94      0.97        18\n",
            "\n",
            "    accuracy                           0.98        57\n",
            "   macro avg       0.99      0.97      0.98        57\n",
            "weighted avg       0.98      0.98      0.98        57\n",
            "\n"
          ]
        }
      ]
    },
    {
      "cell_type": "markdown",
      "source": [
        "**skenario 2 (split 80:20)**"
      ],
      "metadata": {
        "id": "Kq6d-Wij-PD6"
      }
    },
    {
      "cell_type": "code",
      "source": [
        "print(\"Fitur:\", X.shape, \"Kelas:\", y.shape)\n",
        "\n",
        "X_train, X_test, y_train, y_test = train_test_split(X, y,\n",
        "                                                    test_size=0.2,\n",
        "                                                    random_state=2)\n",
        "\n",
        "print(f\"Train size: {len(X_train)}, Test size: {len(X_test)}\")\n",
        "\n",
        "model = SVC(kernel='linear')\n",
        "model.fit(X_train, y_train)\n",
        "\n",
        "y_predict = model.predict(X_test)\n",
        "print(classification_report(y_test, y_predict))"
      ],
      "metadata": {
        "colab": {
          "base_uri": "https://localhost:8080/"
        },
        "id": "YN6E2sBq8wPy",
        "outputId": "2658cace-37f1-4b0b-dd41-f5ec374f8132"
      },
      "execution_count": null,
      "outputs": [
        {
          "output_type": "stream",
          "name": "stdout",
          "text": [
            "Fitur: (569, 20) Kelas: (569,)\n",
            "Train size: 455, Test size: 114\n",
            "              precision    recall  f1-score   support\n",
            "\n",
            "           B       0.96      0.94      0.95        69\n",
            "           M       0.91      0.93      0.92        45\n",
            "\n",
            "    accuracy                           0.94       114\n",
            "   macro avg       0.93      0.94      0.94       114\n",
            "weighted avg       0.94      0.94      0.94       114\n",
            "\n"
          ]
        }
      ]
    },
    {
      "cell_type": "markdown",
      "source": [
        "**skenario 3 (split 70:30)**"
      ],
      "metadata": {
        "id": "aQdR0utT-bos"
      }
    },
    {
      "cell_type": "code",
      "source": [
        "print(\"Fitur:\", X.shape, \"Kelas:\", y.shape)\n",
        "\n",
        "X_train, X_test, y_train, y_test = train_test_split(X, y,\n",
        "                                                    test_size=0.3,\n",
        "                                                    random_state=2)\n",
        "\n",
        "print(f\"Train size: {len(X_train)}, Test size: {len(X_test)}\")\n",
        "\n",
        "model = SVC(kernel='linear')\n",
        "model.fit(X_train, y_train)\n",
        "\n",
        "y_predict = model.predict(X_test)\n",
        "print(classification_report(y_test, y_predict))"
      ],
      "metadata": {
        "colab": {
          "base_uri": "https://localhost:8080/"
        },
        "id": "NL__hkyQ8zkO",
        "outputId": "8da5839c-fa91-4d73-e4ff-9c04206b0ee3"
      },
      "execution_count": null,
      "outputs": [
        {
          "output_type": "stream",
          "name": "stdout",
          "text": [
            "Fitur: (569, 20) Kelas: (569,)\n",
            "Train size: 398, Test size: 171\n",
            "              precision    recall  f1-score   support\n",
            "\n",
            "           B       0.96      0.95      0.96       104\n",
            "           M       0.93      0.94      0.93        67\n",
            "\n",
            "    accuracy                           0.95       171\n",
            "   macro avg       0.94      0.95      0.94       171\n",
            "weighted avg       0.95      0.95      0.95       171\n",
            "\n"
          ]
        }
      ]
    },
    {
      "cell_type": "markdown",
      "source": [
        "**skenario 4 (split 60:40)**"
      ],
      "metadata": {
        "id": "-zsTMtXE-eKt"
      }
    },
    {
      "cell_type": "code",
      "source": [
        "print(\"Fitur:\", X.shape, \"Kelas:\", y.shape)\n",
        "\n",
        "X_train, X_test, y_train, y_test = train_test_split(X, y,\n",
        "                                                    test_size=0.4,\n",
        "                                                    random_state=2)\n",
        "\n",
        "print(f\"Train size: {len(X_train)}, Test size: {len(X_test)}\")\n",
        "\n",
        "model = SVC(kernel='linear')\n",
        "model.fit(X_train, y_train)\n",
        "\n",
        "y_predict = model.predict(X_test)\n",
        "print(classification_report(y_test, y_predict))"
      ],
      "metadata": {
        "colab": {
          "base_uri": "https://localhost:8080/"
        },
        "id": "y66AHHoR82ra",
        "outputId": "779e7e67-867a-45a2-9adc-38feed6d65a0"
      },
      "execution_count": null,
      "outputs": [
        {
          "output_type": "stream",
          "name": "stdout",
          "text": [
            "Fitur: (569, 20) Kelas: (569,)\n",
            "Train size: 341, Test size: 228\n",
            "              precision    recall  f1-score   support\n",
            "\n",
            "           B       0.94      0.97      0.96       140\n",
            "           M       0.95      0.91      0.93        88\n",
            "\n",
            "    accuracy                           0.95       228\n",
            "   macro avg       0.95      0.94      0.94       228\n",
            "weighted avg       0.95      0.95      0.95       228\n",
            "\n"
          ]
        }
      ]
    },
    {
      "cell_type": "markdown",
      "source": [
        "# **perlatihan model SVM (15 fitur)**"
      ],
      "metadata": {
        "id": "wqMP1QXZZXzw"
      }
    },
    {
      "cell_type": "markdown",
      "source": [
        "**skenario 1 (split 90:10)**"
      ],
      "metadata": {
        "id": "cHZi39Gp-gt7"
      }
    },
    {
      "cell_type": "code",
      "source": [
        "X = X.drop(['perimeter1','fractal_dimension3','concavity2',\n",
        "            'compactness2','concave_points2'], axis=1)\n",
        "\n",
        "print(\"Fitur:\", X.shape, \"Kelas:\", y.shape)\n",
        "\n",
        "X_train, X_test, y_train, y_test = train_test_split(X, y,\n",
        "                                                    test_size=0.1,\n",
        "                                                    random_state=2)\n",
        "\n",
        "print(f\"Train size: {len(X_train)}, Test size: {len(X_test)}\")\n",
        "\n",
        "model = SVC(kernel='linear')\n",
        "model.fit(X_train, y_train)\n",
        "\n",
        "y_predict = model.predict(X_test)\n",
        "print(classification_report(y_test, y_predict))"
      ],
      "metadata": {
        "colab": {
          "base_uri": "https://localhost:8080/"
        },
        "id": "TQocR8wgZZ61",
        "outputId": "b12cea9c-6108-4591-d4e1-6410bcf1c844"
      },
      "execution_count": null,
      "outputs": [
        {
          "output_type": "stream",
          "name": "stdout",
          "text": [
            "Fitur: (569, 15) Kelas: (569,)\n",
            "Train size: 512, Test size: 57\n",
            "              precision    recall  f1-score   support\n",
            "\n",
            "           B       0.97      1.00      0.99        39\n",
            "           M       1.00      0.94      0.97        18\n",
            "\n",
            "    accuracy                           0.98        57\n",
            "   macro avg       0.99      0.97      0.98        57\n",
            "weighted avg       0.98      0.98      0.98        57\n",
            "\n"
          ]
        }
      ]
    },
    {
      "cell_type": "markdown",
      "source": [
        "**skenario 2 (split 80:20)**"
      ],
      "metadata": {
        "id": "YvqoqueM-n_K"
      }
    },
    {
      "cell_type": "code",
      "source": [
        "print(\"Fitur:\", X.shape, \"Kelas:\", y.shape)\n",
        "\n",
        "X_train, X_test, y_train, y_test = train_test_split(X, y,\n",
        "                                                    test_size=0.2,\n",
        "                                                    random_state=2)\n",
        "\n",
        "print(f\"Train size: {len(X_train)}, Test size: {len(X_test)}\")\n",
        "\n",
        "model = SVC(kernel='linear')\n",
        "model.fit(X_train, y_train)\n",
        "\n",
        "y_predict = model.predict(X_test)\n",
        "print(classification_report(y_test, y_predict))"
      ],
      "metadata": {
        "colab": {
          "base_uri": "https://localhost:8080/"
        },
        "id": "eCZnGG2x9ASs",
        "outputId": "cf3f4271-e916-4cfa-b2ea-fb8067c56306"
      },
      "execution_count": null,
      "outputs": [
        {
          "output_type": "stream",
          "name": "stdout",
          "text": [
            "Fitur: (569, 15) Kelas: (569,)\n",
            "Train size: 455, Test size: 114\n",
            "              precision    recall  f1-score   support\n",
            "\n",
            "           B       0.96      0.96      0.96        69\n",
            "           M       0.93      0.93      0.93        45\n",
            "\n",
            "    accuracy                           0.95       114\n",
            "   macro avg       0.94      0.94      0.94       114\n",
            "weighted avg       0.95      0.95      0.95       114\n",
            "\n"
          ]
        }
      ]
    },
    {
      "cell_type": "markdown",
      "source": [
        "**skenario 3 (split 70:30)**"
      ],
      "metadata": {
        "id": "nhiM-qUC-qdj"
      }
    },
    {
      "cell_type": "code",
      "source": [
        "print(\"Fitur:\", X.shape, \"Kelas:\", y.shape)\n",
        "\n",
        "X_train, X_test, y_train, y_test = train_test_split(X, y,\n",
        "                                                    test_size=0.3,\n",
        "                                                    random_state=2)\n",
        "\n",
        "print(f\"Train size: {len(X_train)}, Test size: {len(X_test)}\")\n",
        "\n",
        "model = SVC(kernel='linear')\n",
        "model.fit(X_train, y_train)\n",
        "\n",
        "y_predict = model.predict(X_test)\n",
        "print(classification_report(y_test, y_predict))"
      ],
      "metadata": {
        "colab": {
          "base_uri": "https://localhost:8080/"
        },
        "id": "LcvrEjbC9DSp",
        "outputId": "d3026c20-7e02-412f-9fd3-8d50d3039c45"
      },
      "execution_count": null,
      "outputs": [
        {
          "output_type": "stream",
          "name": "stdout",
          "text": [
            "Fitur: (569, 15) Kelas: (569,)\n",
            "Train size: 398, Test size: 171\n",
            "              precision    recall  f1-score   support\n",
            "\n",
            "           B       0.96      0.96      0.96       104\n",
            "           M       0.94      0.94      0.94        67\n",
            "\n",
            "    accuracy                           0.95       171\n",
            "   macro avg       0.95      0.95      0.95       171\n",
            "weighted avg       0.95      0.95      0.95       171\n",
            "\n"
          ]
        }
      ]
    },
    {
      "cell_type": "markdown",
      "source": [
        "**skenario 4 (split 60:40)**"
      ],
      "metadata": {
        "id": "pZY_FV1J-ssT"
      }
    },
    {
      "cell_type": "code",
      "source": [
        "print(\"Fitur:\", X.shape, \"Kelas:\", y.shape)\n",
        "\n",
        "X_train, X_test, y_train, y_test = train_test_split(X, y,\n",
        "                                                    test_size=0.4,\n",
        "                                                    random_state=2)\n",
        "\n",
        "print(f\"Train size: {len(X_train)}, Test size: {len(X_test)}\")\n",
        "\n",
        "model = SVC(kernel='linear')\n",
        "model.fit(X_train, y_train)\n",
        "\n",
        "y_predict = model.predict(X_test)\n",
        "print(classification_report(y_test, y_predict))"
      ],
      "metadata": {
        "colab": {
          "base_uri": "https://localhost:8080/"
        },
        "id": "z6GO9k6s9Irj",
        "outputId": "c857e177-7ed2-4335-94d4-f568cd246c40"
      },
      "execution_count": null,
      "outputs": [
        {
          "output_type": "stream",
          "name": "stdout",
          "text": [
            "Fitur: (569, 15) Kelas: (569,)\n",
            "Train size: 341, Test size: 228\n",
            "              precision    recall  f1-score   support\n",
            "\n",
            "           B       0.94      0.97      0.96       140\n",
            "           M       0.95      0.91      0.93        88\n",
            "\n",
            "    accuracy                           0.95       228\n",
            "   macro avg       0.95      0.94      0.94       228\n",
            "weighted avg       0.95      0.95      0.95       228\n",
            "\n"
          ]
        }
      ]
    },
    {
      "cell_type": "markdown",
      "source": [
        "# **pelatihan model SVM (10 fitur)**"
      ],
      "metadata": {
        "id": "5_IJBD5La_Du"
      }
    },
    {
      "cell_type": "markdown",
      "source": [
        "**skenario 1 (split 90:10)**"
      ],
      "metadata": {
        "id": "3LqGRPbM-1bt"
      }
    },
    {
      "cell_type": "code",
      "source": [
        "X = X.drop(['symmetry1','compactness1','smoothness1',\n",
        "            'perimeter2','texture3'], axis=1)\n",
        "\n",
        "print(\"Fitur:\", X.shape, \"Kelas:\", y.shape)\n",
        "\n",
        "X_train, X_test, y_train, y_test = train_test_split(X, y,\n",
        "                                                    test_size=0.1,\n",
        "                                                    random_state=2)\n",
        "\n",
        "print(f\"Train size: {len(X_train)}, Test size: {len(X_test)}\")\n",
        "\n",
        "model = SVC(kernel='linear')\n",
        "model.fit(X_train, y_train)\n",
        "\n",
        "y_predict = model.predict(X_test)\n",
        "print(classification_report(y_test, y_predict))"
      ],
      "metadata": {
        "colab": {
          "base_uri": "https://localhost:8080/"
        },
        "id": "ol9MrQDVa9mE",
        "outputId": "9954ae44-bbb2-4dee-fd0b-ba203d318ac7"
      },
      "execution_count": null,
      "outputs": [
        {
          "output_type": "stream",
          "name": "stdout",
          "text": [
            "Fitur: (569, 10) Kelas: (569,)\n",
            "Train size: 512, Test size: 57\n",
            "              precision    recall  f1-score   support\n",
            "\n",
            "           B       0.97      0.95      0.96        39\n",
            "           M       0.89      0.94      0.92        18\n",
            "\n",
            "    accuracy                           0.95        57\n",
            "   macro avg       0.93      0.95      0.94        57\n",
            "weighted avg       0.95      0.95      0.95        57\n",
            "\n"
          ]
        }
      ]
    },
    {
      "cell_type": "markdown",
      "source": [
        "**skenario 2 (split 80:20)**"
      ],
      "metadata": {
        "id": "P_l5edwA-397"
      }
    },
    {
      "cell_type": "code",
      "source": [
        "print(\"Fitur:\", X.shape, \"Kelas:\", y.shape)\n",
        "\n",
        "X_train, X_test, y_train, y_test = train_test_split(X, y,\n",
        "                                                    test_size=0.2,\n",
        "                                                    random_state=2)\n",
        "\n",
        "print(f\"Train size: {len(X_train)}, Test size: {len(X_test)}\")\n",
        "\n",
        "model = SVC(kernel='linear')\n",
        "model.fit(X_train, y_train)\n",
        "\n",
        "y_predict = model.predict(X_test)\n",
        "print(classification_report(y_test, y_predict))"
      ],
      "metadata": {
        "colab": {
          "base_uri": "https://localhost:8080/"
        },
        "id": "U6JMaczM9YY3",
        "outputId": "7ef4ee1f-7945-4cbc-8112-2fb5b043ab97"
      },
      "execution_count": null,
      "outputs": [
        {
          "output_type": "stream",
          "name": "stdout",
          "text": [
            "Fitur: (569, 10) Kelas: (569,)\n",
            "Train size: 455, Test size: 114\n",
            "              precision    recall  f1-score   support\n",
            "\n",
            "           B       0.96      0.93      0.94        69\n",
            "           M       0.89      0.93      0.91        45\n",
            "\n",
            "    accuracy                           0.93       114\n",
            "   macro avg       0.92      0.93      0.93       114\n",
            "weighted avg       0.93      0.93      0.93       114\n",
            "\n"
          ]
        }
      ]
    },
    {
      "cell_type": "markdown",
      "source": [
        "**skenario 3 (split 70:30)**"
      ],
      "metadata": {
        "id": "gpSVL1XX-7Jp"
      }
    },
    {
      "cell_type": "code",
      "source": [
        "print(\"Fitur:\", X.shape, \"Kelas:\", y.shape)\n",
        "\n",
        "X_train, X_test, y_train, y_test = train_test_split(X, y,\n",
        "                                                    test_size=0.3,\n",
        "                                                    random_state=2)\n",
        "\n",
        "print(f\"Train size: {len(X_train)}, Test size: {len(X_test)}\")\n",
        "\n",
        "model = SVC(kernel='linear')\n",
        "model.fit(X_train, y_train)\n",
        "\n",
        "y_predict = model.predict(X_test)\n",
        "print(classification_report(y_test, y_predict))"
      ],
      "metadata": {
        "colab": {
          "base_uri": "https://localhost:8080/"
        },
        "id": "pw2mEldr9bN6",
        "outputId": "7c80f40a-786f-433f-a101-134c9ca520b7"
      },
      "execution_count": null,
      "outputs": [
        {
          "output_type": "stream",
          "name": "stdout",
          "text": [
            "Fitur: (569, 10) Kelas: (569,)\n",
            "Train size: 398, Test size: 171\n",
            "              precision    recall  f1-score   support\n",
            "\n",
            "           B       0.95      0.94      0.95       104\n",
            "           M       0.91      0.93      0.92        67\n",
            "\n",
            "    accuracy                           0.94       171\n",
            "   macro avg       0.93      0.93      0.93       171\n",
            "weighted avg       0.94      0.94      0.94       171\n",
            "\n"
          ]
        }
      ]
    },
    {
      "cell_type": "markdown",
      "source": [
        "**skenario 4 (split 60:40)**"
      ],
      "metadata": {
        "id": "pFM8zVkf--Ni"
      }
    },
    {
      "cell_type": "code",
      "source": [
        "print(\"Fitur:\", X.shape, \"Kelas:\", y.shape)\n",
        "\n",
        "X_train, X_test, y_train, y_test = train_test_split(X, y,\n",
        "                                                    test_size=0.4,\n",
        "                                                    random_state=2)\n",
        "\n",
        "print(f\"Train size: {len(X_train)}, Test size: {len(X_test)}\")\n",
        "\n",
        "model = SVC(kernel='linear')\n",
        "model.fit(X_train, y_train)\n",
        "\n",
        "y_predict = model.predict(X_test)\n",
        "print(classification_report(y_test, y_predict))"
      ],
      "metadata": {
        "colab": {
          "base_uri": "https://localhost:8080/"
        },
        "id": "KL_zYxHi9i2Y",
        "outputId": "276f874b-25f7-42de-abc6-b6e12d3bb7fb"
      },
      "execution_count": null,
      "outputs": [
        {
          "output_type": "stream",
          "name": "stdout",
          "text": [
            "Fitur: (569, 10) Kelas: (569,)\n",
            "Train size: 341, Test size: 228\n",
            "              precision    recall  f1-score   support\n",
            "\n",
            "           B       0.93      0.97      0.95       140\n",
            "           M       0.95      0.89      0.92        88\n",
            "\n",
            "    accuracy                           0.94       228\n",
            "   macro avg       0.94      0.93      0.93       228\n",
            "weighted avg       0.94      0.94      0.94       228\n",
            "\n"
          ]
        }
      ]
    },
    {
      "cell_type": "markdown",
      "source": [
        "# Confussion Matrix"
      ],
      "metadata": {
        "id": "XVA30dOlT5KZ"
      }
    },
    {
      "cell_type": "code",
      "source": [
        "import pandas as pd\n"
      ],
      "metadata": {
        "id": "vmuJdmmwMtyE"
      },
      "execution_count": null,
      "outputs": []
    },
    {
      "cell_type": "code",
      "source": [
        "conf_matrix = confusion_matrix(y_predict, y_test)\n",
        "\n",
        "conf_matrix_df = pd.DataFrame(conf_matrix, index=['Malignant', 'Benign'], columns=['Malignant', 'Benign'])\n",
        "\n",
        "sns.heatmap(conf_matrix_df, annot=True, fmt=\"d\", )\n",
        "plt.xlabel(\"True Class\")\n",
        "plt.ylabel(\"Predicted Class\")\n",
        "plt.title(\"Confusion Matrix\")\n",
        "plt.show()"
      ],
      "metadata": {
        "id": "7qGDhKJEMh2P"
      },
      "execution_count": null,
      "outputs": []
    },
    {
      "cell_type": "code",
      "source": [
        "import seaborn as sns\n",
        "import matplotlib.pyplot as plt\n",
        "from sklearn.metrics import confusion_matrix\n",
        "\n",
        "conf_matrix = confusion_matrix(y_test, y_predict)\n",
        "\n",
        "sns.heatmap(conf_matrix, annot=True, fmt=\"d\", cmap=\"Blues\")\n",
        "plt.xlabel(\"Predicted\")\n",
        "plt.ylabel(\"Actual\")\n",
        "plt.title(\"Confusion Matrix\")\n",
        "plt.show()"
      ],
      "metadata": {
        "colab": {
          "base_uri": "https://localhost:8080/",
          "height": 472
        },
        "id": "x7hZT1HzSpWE",
        "outputId": "80d01e97-645f-4633-c50c-d853e3e0061d"
      },
      "execution_count": null,
      "outputs": [
        {
          "output_type": "display_data",
          "data": {
            "text/plain": [
              "<Figure size 640x480 with 2 Axes>"
            ],
            "image/png": "[encoded data removed]"
          },
          "metadata": {}
        }
      ]
    },
    {
      "cell_type": "code",
      "source": [
        "from sklearn.preprocessing import LabelEncoder\n",
        "\n",
        "label_encoder = LabelEncoder()\n",
        "y_encoded = label_encoder.fit_transform(y)\n",
        "print(\"Class mapping: \", dict(zip(label_encoder.classes_, label_encoder.transform(label_encoder.classes_))))"
      ],
      "metadata": {
        "colab": {
          "base_uri": "https://localhost:8080/"
        },
        "id": "FBPgcw6vRmL9",
        "outputId": "ddb8e2f9-d600-481a-8ad7-44e8d904b7c3"
      },
      "execution_count": null,
      "outputs": [
        {
          "output_type": "stream",
          "name": "stdout",
          "text": [
            "Class mapping:  {'B': 0, 'M': 1}\n"
          ]
        }
      ]
    },
    {
      "cell_type": "code",
      "source": [
        "TN = conf_matrix[0, 0]\n",
        "FP = conf_matrix[0, 1]\n",
        "FN = conf_matrix[1, 0]\n",
        "TP = conf_matrix[1, 1]\n",
        "\n",
        "print(\"True Negatives (TN):\", TN)\n",
        "print(\"False Positives (FP):\", FP)\n",
        "print(\"False Negatives (FN):\", FN)\n",
        "print(\"True Positives (TP):\", TP)"
      ],
      "metadata": {
        "colab": {
          "base_uri": "https://localhost:8080/"
        },
        "id": "YJl1QhDPUPgJ",
        "outputId": "7cfb6972-ddb7-4b1f-aee2-bc7dabdc976a"
      },
      "execution_count": null,
      "outputs": [
        {
          "output_type": "stream",
          "name": "stdout",
          "text": [
            "True Negatives (TN): 37\n",
            "False Positives (FP): 2\n",
            "False Negatives (FN): 1\n",
            "True Positives (TP): 17\n"
          ]
        }
      ]
    },
    {
      "cell_type": "markdown",
      "source": [
        "# pelatihan model (5 fitur)"
      ],
      "metadata": {
        "id": "rtiAbjIeq9ZR"
      }
    },
    {
      "cell_type": "code",
      "source": [
        "X = X.drop(['texture2','radius3','radius1',\n",
        "            'concavity1','concave_points1'], axis=1)\n",
        "\n",
        "print(\"Fitur:\", X.shape, \"Kelas:\", y.shape)\n",
        "\n",
        "X_train, X_test, y_train, y_test = train_test_split(X, y,\n",
        "                                                    test_size=0.1,\n",
        "                                                    random_state=2)\n",
        "\n",
        "print(f\"Train size: {len(X_train)}, Test size: {len(X_test)}\")\n",
        "\n",
        "model = SVC(kernel='linear')\n",
        "model.fit(X_train, y_train)\n",
        "\n",
        "y_predict = model.predict(X_test)\n",
        "print(classification_report(y_test, y_predict))"
      ],
      "metadata": {
        "colab": {
          "base_uri": "https://localhost:8080/"
        },
        "id": "MYz4XdfDrA8Z",
        "outputId": "701e5362-7453-45fc-adeb-cd7e82c184ac"
      },
      "execution_count": null,
      "outputs": [
        {
          "output_type": "stream",
          "name": "stdout",
          "text": [
            "Fitur: (569, 5) Kelas: (569,)\n",
            "Train size: 512, Test size: 57\n",
            "              precision    recall  f1-score   support\n",
            "\n",
            "           B       0.84      0.95      0.89        39\n",
            "           M       0.85      0.61      0.71        18\n",
            "\n",
            "    accuracy                           0.84        57\n",
            "   macro avg       0.84      0.78      0.80        57\n",
            "weighted avg       0.84      0.84      0.83        57\n",
            "\n"
          ]
        }
      ]
    },
    {
      "cell_type": "markdown",
      "source": [
        "# 11-14 fitur"
      ],
      "metadata": {
        "id": "MWnW31gFrJH0"
      }
    },
    {
      "cell_type": "markdown",
      "source": [
        "**pelatihan model (11 fitur)**"
      ],
      "metadata": {
        "id": "yBugNyZwv9OA"
      }
    },
    {
      "cell_type": "code",
      "source": [
        "X = df.drop(['ID','Diagnosis',\n",
        "             'compactness1','smoothness1','perimeter2',\n",
        "             'texture3','perimeter1','fractal_dimension3','concavity2',\n",
        "             'compactness2','concave_points2','texture1','area2',\n",
        "             'smoothness2','perimeter3','radius2','fractal_dimension2',\n",
        "             'fractal_dimension1','symmetry2','area3','area1'], axis=1)\n",
        "\n",
        "print(\"Fitur:\", X.shape, \"Kelas:\", y.shape)\n",
        "\n",
        "X_train, X_test, y_train, y_test = train_test_split(X, y,\n",
        "                                                    test_size=0.4,\n",
        "                                                    random_state=2)\n",
        "\n",
        "print(f\"Train size: {len(X_train)}, Test size: {len(X_test)}\")\n",
        "\n",
        "model = SVC(kernel='linear')\n",
        "model.fit(X_train, y_train)\n",
        "\n",
        "y_predict = model.predict(X_test)\n",
        "print(classification_report(y_test, y_predict))"
      ],
      "metadata": {
        "colab": {
          "base_uri": "https://localhost:8080/"
        },
        "outputId": "a3e03c29-d143-428f-bf5c-b2e80e263993",
        "id": "GDaWIVtGv9Ob"
      },
      "execution_count": null,
      "outputs": [
        {
          "output_type": "stream",
          "name": "stdout",
          "text": [
            "Fitur: (569, 11) Kelas: (569,)\n",
            "Train size: 341, Test size: 228\n",
            "              precision    recall  f1-score   support\n",
            "\n",
            "           B       0.94      0.97      0.95       140\n",
            "           M       0.95      0.90      0.92        88\n",
            "\n",
            "    accuracy                           0.94       228\n",
            "   macro avg       0.94      0.93      0.94       228\n",
            "weighted avg       0.94      0.94      0.94       228\n",
            "\n"
          ]
        }
      ]
    },
    {
      "cell_type": "markdown",
      "source": [
        "**pelatihan model (12 fitur)**"
      ],
      "metadata": {
        "id": "UdapN2T-wLPb"
      }
    },
    {
      "cell_type": "code",
      "source": [
        "X = df.drop(['ID','Diagnosis',\n",
        "             'smoothness1','perimeter2',\n",
        "             'texture3','perimeter1','fractal_dimension3','concavity2',\n",
        "             'compactness2','concave_points2','texture1','area2',\n",
        "             'smoothness2','perimeter3','radius2','fractal_dimension2',\n",
        "             'fractal_dimension1','symmetry2','area3','area1'], axis=1)\n",
        "\n",
        "print(\"Fitur:\", X.shape, \"Kelas:\", y.shape)\n",
        "\n",
        "X_train, X_test, y_train, y_test = train_test_split(X, y,\n",
        "                                                    test_size=0.4,\n",
        "                                                    random_state=2)\n",
        "\n",
        "print(f\"Train size: {len(X_train)}, Test size: {len(X_test)}\")\n",
        "\n",
        "model = SVC(kernel='linear')\n",
        "model.fit(X_train, y_train)\n",
        "\n",
        "y_predict = model.predict(X_test)\n",
        "print(classification_report(y_test, y_predict))"
      ],
      "metadata": {
        "colab": {
          "base_uri": "https://localhost:8080/"
        },
        "outputId": "be4d90bd-616b-4f37-e69a-00f90c08ac6f",
        "id": "qwKs5zeswLPz"
      },
      "execution_count": null,
      "outputs": [
        {
          "output_type": "stream",
          "name": "stdout",
          "text": [
            "Fitur: (569, 12) Kelas: (569,)\n",
            "Train size: 341, Test size: 228\n",
            "              precision    recall  f1-score   support\n",
            "\n",
            "           B       0.94      0.97      0.95       140\n",
            "           M       0.95      0.90      0.92        88\n",
            "\n",
            "    accuracy                           0.94       228\n",
            "   macro avg       0.94      0.93      0.94       228\n",
            "weighted avg       0.94      0.94      0.94       228\n",
            "\n"
          ]
        }
      ]
    },
    {
      "cell_type": "markdown",
      "source": [
        "**pelatihan model (13 fitur)**"
      ],
      "metadata": {
        "id": "Llm6eEzswLom"
      }
    },
    {
      "cell_type": "code",
      "source": [
        "X = df.drop(['ID','Diagnosis',\n",
        "             'perimeter2',\n",
        "             'texture3','perimeter1','fractal_dimension3','concavity2',\n",
        "             'compactness2','concave_points2','texture1','area2',\n",
        "             'smoothness2','perimeter3','radius2','fractal_dimension2',\n",
        "             'fractal_dimension1','symmetry2','area3','area1'], axis=1)\n",
        "\n",
        "print(\"Fitur:\", X.shape, \"Kelas:\", y.shape)\n",
        "\n",
        "X_train, X_test, y_train, y_test = train_test_split(X, y,\n",
        "                                                    test_size=0.4,\n",
        "                                                    random_state=2)\n",
        "\n",
        "print(f\"Train size: {len(X_train)}, Test size: {len(X_test)}\")\n",
        "\n",
        "model = SVC(kernel='linear')\n",
        "model.fit(X_train, y_train)\n",
        "\n",
        "y_predict = model.predict(X_test)\n",
        "print(classification_report(y_test, y_predict))"
      ],
      "metadata": {
        "colab": {
          "base_uri": "https://localhost:8080/"
        },
        "outputId": "e560ba37-0be2-4b4e-9747-d0a39ff15770",
        "id": "pxTL7xqVwLoo"
      },
      "execution_count": null,
      "outputs": [
        {
          "output_type": "stream",
          "name": "stdout",
          "text": [
            "Fitur: (569, 13) Kelas: (569,)\n",
            "Train size: 341, Test size: 228\n",
            "              precision    recall  f1-score   support\n",
            "\n",
            "           B       0.94      0.97      0.95       140\n",
            "           M       0.95      0.90      0.92        88\n",
            "\n",
            "    accuracy                           0.94       228\n",
            "   macro avg       0.94      0.93      0.94       228\n",
            "weighted avg       0.94      0.94      0.94       228\n",
            "\n"
          ]
        }
      ]
    },
    {
      "cell_type": "markdown",
      "source": [
        "**pelatihan model (14 fitur)**"
      ],
      "metadata": {
        "id": "NyrEZtcXwNEp"
      }
    },
    {
      "cell_type": "code",
      "source": [
        "X = df.drop(['ID','Diagnosis',\n",
        "             'texture3','perimeter1','fractal_dimension3','concavity2',\n",
        "             'compactness2','concave_points2','texture1','area2',\n",
        "             'smoothness2','perimeter3','radius2','fractal_dimension2',\n",
        "             'fractal_dimension1','symmetry2','area3','area1'], axis=1)\n",
        "\n",
        "print(\"Fitur:\", X.shape, \"Kelas:\", y.shape)\n",
        "\n",
        "X_train, X_test, y_train, y_test = train_test_split(X, y,\n",
        "                                                    test_size=0.4,\n",
        "                                                    random_state=2)\n",
        "\n",
        "print(f\"Train size: {len(X_train)}, Test size: {len(X_test)}\")\n",
        "\n",
        "model = SVC(kernel='linear')\n",
        "model.fit(X_train, y_train)\n",
        "\n",
        "y_predict = model.predict(X_test)\n",
        "print(classification_report(y_test, y_predict))"
      ],
      "metadata": {
        "colab": {
          "base_uri": "https://localhost:8080/"
        },
        "outputId": "67a7192b-095a-43e6-c222-9e4f474e0f99",
        "id": "C3QF14yJwNFI"
      },
      "execution_count": null,
      "outputs": [
        {
          "output_type": "stream",
          "name": "stdout",
          "text": [
            "Fitur: (569, 14) Kelas: (569,)\n",
            "Train size: 341, Test size: 228\n",
            "              precision    recall  f1-score   support\n",
            "\n",
            "           B       0.94      0.98      0.96       140\n",
            "           M       0.96      0.90      0.93        88\n",
            "\n",
            "    accuracy                           0.95       228\n",
            "   macro avg       0.95      0.94      0.94       228\n",
            "weighted avg       0.95      0.95      0.95       228\n",
            "\n"
          ]
        }
      ]
    },
    {
      "cell_type": "markdown",
      "source": [
        "# ."
      ],
      "metadata": {
        "id": "PoXy7ZYoqhax"
      }
    },
    {
      "cell_type": "code",
      "source": [
        "import joblib\n",
        "\n",
        "# save model\n",
        "joblib.dump(model, 'svm_15.pkl')\n",
        "\n",
        "loaded_model = joblib.load('svm_15.pkl')"
      ],
      "metadata": {
        "id": "4i4B7hiSj8wK"
      },
      "execution_count": null,
      "outputs": []
    },
    {
      "cell_type": "code",
      "source": [
        "estimator.fit(X,y)"
      ],
      "metadata": {
        "colab": {
          "base_uri": "https://localhost:8080/",
          "height": 75
        },
        "id": "_XuoPJaXLz6B",
        "outputId": "98eebd59-237f-405e-d1ab-b6704e2a8adc"
      },
      "execution_count": null,
      "outputs": [
        {
          "output_type": "execute_result",
          "data": {
            "text/plain": [
              "SVC(kernel='linear')"
            ],
            "text/html": [
              "<style>#sk-container-id-1 {color: black;background-color: white;}#sk-container-id-1 pre{padding: 0;}#sk-container-id-1 div.sk-toggleable {background-color: white;}#sk-container-id-1 label.sk-toggleable__label {cursor: pointer;display: block;width: 100%;margin-bottom: 0;padding: 0.3em;box-sizing: border-box;text-align: center;}#sk-container-id-1 label.sk-toggleable__label-arrow:before {content: \"▸\";float: left;margin-right: 0.25em;color: #696969;}#sk-container-id-1 label.sk-toggleable__label-arrow:hover:before {color: black;}#sk-container-id-1 div.sk-estimator:hover label.sk-toggleable__label-arrow:before {color: black;}#sk-container-id-1 div.sk-toggleable__content {max-height: 0;max-width: 0;overflow: hidden;text-align: left;background-color: #f0f8ff;}#sk-container-id-1 div.sk-toggleable__content pre {margin: 0.2em;color: black;border-radius: 0.25em;background-color: #f0f8ff;}#sk-container-id-1 input.sk-toggleable__control:checked~div.sk-toggleable__content {max-height: 200px;max-width: 100%;overflow: auto;}#sk-container-id-1 input.sk-toggleable__control:checked~label.sk-toggleable__label-arrow:before {content: \"▾\";}#sk-container-id-1 div.sk-estimator input.sk-toggleable__control:checked~label.sk-toggleable__label {background-color: #d4ebff;}#sk-container-id-1 div.sk-label input.sk-toggleable__control:checked~label.sk-toggleable__label {background-color: #d4ebff;}#sk-container-id-1 input.sk-hidden--visually {border: 0;clip: rect(1px 1px 1px 1px);clip: rect(1px, 1px, 1px, 1px);height: 1px;margin: -1px;overflow: hidden;padding: 0;position: absolute;width: 1px;}#sk-container-id-1 div.sk-estimator {font-family: monospace;background-color: #f0f8ff;border: 1px dotted black;border-radius: 0.25em;box-sizing: border-box;margin-bottom: 0.5em;}#sk-container-id-1 div.sk-estimator:hover {background-color: #d4ebff;}#sk-container-id-1 div.sk-parallel-item::after {content: \"\";width: 100%;border-bottom: 1px solid gray;flex-grow: 1;}#sk-container-id-1 div.sk-label:hover label.sk-toggleable__label {background-color: #d4ebff;}#sk-container-id-1 div.sk-serial::before {content: \"\";position: absolute;border-left: 1px solid gray;box-sizing: border-box;top: 0;bottom: 0;left: 50%;z-index: 0;}#sk-container-id-1 div.sk-serial {display: flex;flex-direction: column;align-items: center;background-color: white;padding-right: 0.2em;padding-left: 0.2em;position: relative;}#sk-container-id-1 div.sk-item {position: relative;z-index: 1;}#sk-container-id-1 div.sk-parallel {display: flex;align-items: stretch;justify-content: center;background-color: white;position: relative;}#sk-container-id-1 div.sk-item::before, #sk-container-id-1 div.sk-parallel-item::before {content: \"\";position: absolute;border-left: 1px solid gray;box-sizing: border-box;top: 0;bottom: 0;left: 50%;z-index: -1;}#sk-container-id-1 div.sk-parallel-item {display: flex;flex-direction: column;z-index: 1;position: relative;background-color: white;}#sk-container-id-1 div.sk-parallel-item:first-child::after {align-self: flex-end;width: 50%;}#sk-container-id-1 div.sk-parallel-item:last-child::after {align-self: flex-start;width: 50%;}#sk-container-id-1 div.sk-parallel-item:only-child::after {width: 0;}#sk-container-id-1 div.sk-dashed-wrapped {border: 1px dashed gray;margin: 0 0.4em 0.5em 0.4em;box-sizing: border-box;padding-bottom: 0.4em;background-color: white;}#sk-container-id-1 div.sk-label label {font-family: monospace;font-weight: bold;display: inline-block;line-height: 1.2em;}#sk-container-id-1 div.sk-label-container {text-align: center;}#sk-container-id-1 div.sk-container {/* jupyter's `normalize.less` sets `[hidden] { display: none; }` but bootstrap.min.css set `[hidden] { display: none !important; }` so we also need the `!important` here to be able to override the default hidden behavior on the sphinx rendered scikit-learn.org. See: https://github.com/scikit-learn/scikit-learn/issues/21755 */display: inline-block !important;position: relative;}#sk-container-id-1 div.sk-text-repr-fallback {display: none;}</style><div id=\"sk-container-id-1\" class=\"sk-top-container\"><div class=\"sk-text-repr-fallback\"><pre>SVC(kernel=&#x27;linear&#x27;)</pre><b>In a Jupyter environment, please rerun this cell to show the HTML representation or trust the notebook. <br />On GitHub, the HTML representation is unable to render, please try loading this page with nbviewer.org.</b></div><div class=\"sk-container\" hidden><div class=\"sk-item\"><div class=\"sk-estimator sk-toggleable\"><input class=\"sk-toggleable__control sk-hidden--visually\" id=\"sk-estimator-id-1\" type=\"checkbox\" checked><label for=\"sk-estimator-id-1\" class=\"sk-toggleable__label sk-toggleable__label-arrow\">SVC</label><div class=\"sk-toggleable__content\"><pre>SVC(kernel=&#x27;linear&#x27;)</pre></div></div></div></div></div>"
            ]
          },
          "metadata": {},
          "execution_count": 23
        }
      ]
    },
    {
      "cell_type": "code",
      "source": [
        "from sklearn.metrics import confusion_matrix\n",
        "# Menghitung confusion matrix\n",
        "cm = confusion_matrix(y_test, y_predict)\n",
        "\n",
        "# Mendapatkan nilai FN, FP, TN, dan TP dari confusion matrix\n",
        "TN = cm[0, 0]\n",
        "FP = cm[0, 1]\n",
        "FN = cm[1, 0]\n",
        "TP = cm[1, 1]\n",
        "\n",
        "# Mencetak nilai FN, FP, TN, dan TP\n",
        "print(\"True Negatives (TN):\", TN)\n",
        "print(\"False Positives (FP):\", FP)\n",
        "print(\"False Negatives (FN):\", FN)\n",
        "print(\"True Positives (TP):\", TP)"
      ],
      "metadata": {
        "colab": {
          "base_uri": "https://localhost:8080/"
        },
        "id": "bA6tIuGVk_7n",
        "outputId": "40dc06e4-515a-4aa3-be38-0547c555f7f8"
      },
      "execution_count": null,
      "outputs": [
        {
          "output_type": "stream",
          "name": "stdout",
          "text": [
            "True Negatives (TN): 39\n",
            "False Positives (FP): 0\n",
            "False Negatives (FN): 1\n",
            "True Positives (TP): 17\n"
          ]
        }
      ]
    },
    {
      "cell_type": "code",
      "source": [
        "pd.DataFrame({'Fitur': X.columns, 'Bobot': estimator.coef_[0]})"
      ],
      "metadata": {
        "colab": {
          "base_uri": "https://localhost:8080/",
          "height": 990
        },
        "id": "gqksmEatMAqP",
        "outputId": "4a7ce69a-917f-4220-b7ff-03ff4675c6ab"
      },
      "execution_count": null,
      "outputs": [
        {
          "output_type": "execute_result",
          "data": {
            "text/plain": [
              "                 Fitur     Bobot\n",
              "0              radius1 -1.169149\n",
              "1             texture1 -0.039866\n",
              "2           perimeter1  0.060986\n",
              "3                area1  0.001179\n",
              "4          smoothness1  0.292607\n",
              "5         compactness1  0.245077\n",
              "6           concavity1  0.683705\n",
              "7      concave_points1  0.418968\n",
              "8            symmetry1  0.415847\n",
              "9   fractal_dimension1  0.017464\n",
              "10             radius2  0.045697\n",
              "11            texture2 -0.985254\n",
              "12          perimeter2 -0.436535\n",
              "13               area2  0.087014\n",
              "14         smoothness2  0.054775\n",
              "15        compactness2 -0.076197\n",
              "16          concavity2  0.076276\n",
              "17     concave_points2  0.066708\n",
              "18           symmetry2  0.050687\n",
              "19  fractal_dimension2 -0.019939\n",
              "20             radius3  0.087776\n",
              "21            texture3  0.232891\n",
              "22          perimeter3  0.101173\n",
              "23               area3  0.002260\n",
              "24         smoothness3  0.518798\n",
              "25        compactness3  0.585870\n",
              "26          concavity3  1.598315\n",
              "27     concave_points3  0.758670\n",
              "28           symmetry3  1.027737\n",
              "29  fractal_dimension3  0.063711"
            ],
            "text/html": [
              "\n",
              "  <div id=\"df-f89a7686-7d7a-4978-b639-69fdbcb2ce86\" class=\"colab-df-container\">\n",
              "    <div>\n",
              "<style scoped>\n",
              "    .dataframe tbody tr th:only-of-type {\n",
              "        vertical-align: middle;\n",
              "    }\n",
              "\n",
              "    .dataframe tbody tr th {\n",
              "        vertical-align: top;\n",
              "    }\n",
              "\n",
              "    .dataframe thead th {\n",
              "        text-align: right;\n",
              "    }\n",
              "</style>\n",
              "<table border=\"1\" class=\"dataframe\">\n",
              "  <thead>\n",
              "    <tr style=\"text-align: right;\">\n",
              "      <th></th>\n",
              "      <th>Fitur</th>\n",
              "      <th>Bobot</th>\n",
              "    </tr>\n",
              "  </thead>\n",
              "  <tbody>\n",
              "    <tr>\n",
              "      <th>0</th>\n",
              "      <td>radius1</td>\n",
              "      <td>-1.169149</td>\n",
              "    </tr>\n",
              "    <tr>\n",
              "      <th>1</th>\n",
              "      <td>texture1</td>\n",
              "      <td>-0.039866</td>\n",
              "    </tr>\n",
              "    <tr>\n",
              "      <th>2</th>\n",
              "      <td>perimeter1</td>\n",
              "      <td>0.060986</td>\n",
              "    </tr>\n",
              "    <tr>\n",
              "      <th>3</th>\n",
              "      <td>area1</td>\n",
              "      <td>0.001179</td>\n",
              "    </tr>\n",
              "    <tr>\n",
              "      <th>4</th>\n",
              "      <td>smoothness1</td>\n",
              "      <td>0.292607</td>\n",
              "    </tr>\n",
              "    <tr>\n",
              "      <th>5</th>\n",
              "      <td>compactness1</td>\n",
              "      <td>0.245077</td>\n",
              "    </tr>\n",
              "    <tr>\n",
              "      <th>6</th>\n",
              "      <td>concavity1</td>\n",
              "      <td>0.683705</td>\n",
              "    </tr>\n",
              "    <tr>\n",
              "      <th>7</th>\n",
              "      <td>concave_points1</td>\n",
              "      <td>0.418968</td>\n",
              "    </tr>\n",
              "    <tr>\n",
              "      <th>8</th>\n",
              "      <td>symmetry1</td>\n",
              "      <td>0.415847</td>\n",
              "    </tr>\n",
              "    <tr>\n",
              "      <th>9</th>\n",
              "      <td>fractal_dimension1</td>\n",
              "      <td>0.017464</td>\n",
              "    </tr>\n",
              "    <tr>\n",
              "      <th>10</th>\n",
              "      <td>radius2</td>\n",
              "      <td>0.045697</td>\n",
              "    </tr>\n",
              "    <tr>\n",
              "      <th>11</th>\n",
              "      <td>texture2</td>\n",
              "      <td>-0.985254</td>\n",
              "    </tr>\n",
              "    <tr>\n",
              "      <th>12</th>\n",
              "      <td>perimeter2</td>\n",
              "      <td>-0.436535</td>\n",
              "    </tr>\n",
              "    <tr>\n",
              "      <th>13</th>\n",
              "      <td>area2</td>\n",
              "      <td>0.087014</td>\n",
              "    </tr>\n",
              "    <tr>\n",
              "      <th>14</th>\n",
              "      <td>smoothness2</td>\n",
              "      <td>0.054775</td>\n",
              "    </tr>\n",
              "    <tr>\n",
              "      <th>15</th>\n",
              "      <td>compactness2</td>\n",
              "      <td>-0.076197</td>\n",
              "    </tr>\n",
              "    <tr>\n",
              "      <th>16</th>\n",
              "      <td>concavity2</td>\n",
              "      <td>0.076276</td>\n",
              "    </tr>\n",
              "    <tr>\n",
              "      <th>17</th>\n",
              "      <td>concave_points2</td>\n",
              "      <td>0.066708</td>\n",
              "    </tr>\n",
              "    <tr>\n",
              "      <th>18</th>\n",
              "      <td>symmetry2</td>\n",
              "      <td>0.050687</td>\n",
              "    </tr>\n",
              "    <tr>\n",
              "      <th>19</th>\n",
              "      <td>fractal_dimension2</td>\n",
              "      <td>-0.019939</td>\n",
              "    </tr>\n",
              "    <tr>\n",
              "      <th>20</th>\n",
              "      <td>radius3</td>\n",
              "      <td>0.087776</td>\n",
              "    </tr>\n",
              "    <tr>\n",
              "      <th>21</th>\n",
              "      <td>texture3</td>\n",
              "      <td>0.232891</td>\n",
              "    </tr>\n",
              "    <tr>\n",
              "      <th>22</th>\n",
              "      <td>perimeter3</td>\n",
              "      <td>0.101173</td>\n",
              "    </tr>\n",
              "    <tr>\n",
              "      <th>23</th>\n",
              "      <td>area3</td>\n",
              "      <td>0.002260</td>\n",
              "    </tr>\n",
              "    <tr>\n",
              "      <th>24</th>\n",
              "      <td>smoothness3</td>\n",
              "      <td>0.518798</td>\n",
              "    </tr>\n",
              "    <tr>\n",
              "      <th>25</th>\n",
              "      <td>compactness3</td>\n",
              "      <td>0.585870</td>\n",
              "    </tr>\n",
              "    <tr>\n",
              "      <th>26</th>\n",
              "      <td>concavity3</td>\n",
              "      <td>1.598315</td>\n",
              "    </tr>\n",
              "    <tr>\n",
              "      <th>27</th>\n",
              "      <td>concave_points3</td>\n",
              "      <td>0.758670</td>\n",
              "    </tr>\n",
              "    <tr>\n",
              "      <th>28</th>\n",
              "      <td>symmetry3</td>\n",
              "      <td>1.027737</td>\n",
              "    </tr>\n",
              "    <tr>\n",
              "      <th>29</th>\n",
              "      <td>fractal_dimension3</td>\n",
              "      <td>0.063711</td>\n",
              "    </tr>\n",
              "  </tbody>\n",
              "</table>\n",
              "</div>\n",
              "    <div class=\"colab-df-buttons\">\n",
              "\n",
              "  <div class=\"colab-df-container\">\n",
              "    <button class=\"colab-df-convert\" onclick=\"convertToInteractive('df-f89a7686-7d7a-4978-b639-69fdbcb2ce86')\"\n",
              "            title=\"Convert this dataframe to an interactive table.\"\n",
              "            style=\"display:none;\">\n",
              "\n",
              "  <svg xmlns=\"http://www.w3.org/2000/svg\" height=\"24px\" viewBox=\"0 -960 960 960\">\n",
              "    <path d=\"M120-120v-720h720v720H120Zm60-500h600v-160H180v160Zm220 220h160v-160H400v160Zm0 220h160v-160H400v160ZM180-400h160v-160H180v160Zm440 0h160v-160H620v160ZM180-180h160v-160H180v160Zm440 0h160v-160H620v160Z\"/>\n",
              "  </svg>\n",
              "    </button>\n",
              "\n",
              "  <style>\n",
              "    .colab-df-container {\n",
              "      display:flex;\n",
              "      gap: 12px;\n",
              "    }\n",
              "\n",
              "    .colab-df-convert {\n",
              "      background-color: #E8F0FE;\n",
              "      border: none;\n",
              "      border-radius: 50%;\n",
              "      cursor: pointer;\n",
              "      display: none;\n",
              "      fill: #1967D2;\n",
              "      height: 32px;\n",
              "      padding: 0 0 0 0;\n",
              "      width: 32px;\n",
              "    }\n",
              "\n",
              "    .colab-df-convert:hover {\n",
              "      background-color: #E2EBFA;\n",
              "      box-shadow: 0px 1px 2px rgba(60, 64, 67, 0.3), 0px 1px 3px 1px rgba(60, 64, 67, 0.15);\n",
              "      fill: #174EA6;\n",
              "    }\n",
              "\n",
              "    .colab-df-buttons div {\n",
              "      margin-bottom: 4px;\n",
              "    }\n",
              "\n",
              "    [theme=dark] .colab-df-convert {\n",
              "      background-color: #3B4455;\n",
              "      fill: #D2E3FC;\n",
              "    }\n",
              "\n",
              "    [theme=dark] .colab-df-convert:hover {\n",
              "      background-color: #434B5C;\n",
              "      box-shadow: 0px 1px 3px 1px rgba(0, 0, 0, 0.15);\n",
              "      filter: drop-shadow(0px 1px 2px rgba(0, 0, 0, 0.3));\n",
              "      fill: #FFFFFF;\n",
              "    }\n",
              "  </style>\n",
              "\n",
              "    <script>\n",
              "      const buttonEl =\n",
              "        document.querySelector('#df-f89a7686-7d7a-4978-b639-69fdbcb2ce86 button.colab-df-convert');\n",
              "      buttonEl.style.display =\n",
              "        google.colab.kernel.accessAllowed ? 'block' : 'none';\n",
              "\n",
              "      async function convertToInteractive(key) {\n",
              "        const element = document.querySelector('#df-f89a7686-7d7a-4978-b639-69fdbcb2ce86');\n",
              "        const dataTable =\n",
              "          await google.colab.kernel.invokeFunction('convertToInteractive',\n",
              "                                                    [key], {});\n",
              "        if (!dataTable) return;\n",
              "\n",
              "        const docLinkHtml = 'Like what you see? Visit the ' +\n",
              "          '<a target=\"_blank\" href=https://colab.research.google.com/notebooks/data_table.ipynb>data table notebook</a>'\n",
              "          + ' to learn more about interactive tables.';\n",
              "        element.innerHTML = '';\n",
              "        dataTable['output_type'] = 'display_data';\n",
              "        await google.colab.output.renderOutput(dataTable, element);\n",
              "        const docLink = document.createElement('div');\n",
              "        docLink.innerHTML = docLinkHtml;\n",
              "        element.appendChild(docLink);\n",
              "      }\n",
              "    </script>\n",
              "  </div>\n",
              "\n",
              "\n",
              "<div id=\"df-0c3f5a26-4105-4fec-b99b-96fdd810410b\">\n",
              "  <button class=\"colab-df-quickchart\" onclick=\"quickchart('df-0c3f5a26-4105-4fec-b99b-96fdd810410b')\"\n",
              "            title=\"Suggest charts\"\n",
              "            style=\"display:none;\">\n",
              "\n",
              "<svg xmlns=\"http://www.w3.org/2000/svg\" height=\"24px\"viewBox=\"0 0 24 24\"\n",
              "     width=\"24px\">\n",
              "    <g>\n",
              "        <path d=\"M19 3H5c-1.1 0-2 .9-2 2v14c0 1.1.9 2 2 2h14c1.1 0 2-.9 2-2V5c0-1.1-.9-2-2-2zM9 17H7v-7h2v7zm4 0h-2V7h2v10zm4 0h-2v-4h2v4z\"/>\n",
              "    </g>\n",
              "</svg>\n",
              "  </button>\n",
              "\n",
              "<style>\n",
              "  .colab-df-quickchart {\n",
              "      --bg-color: #E8F0FE;\n",
              "      --fill-color: #1967D2;\n",
              "      --hover-bg-color: #E2EBFA;\n",
              "      --hover-fill-color: #174EA6;\n",
              "      --disabled-fill-color: #AAA;\n",
              "      --disabled-bg-color: #DDD;\n",
              "  }\n",
              "\n",
              "  [theme=dark] .colab-df-quickchart {\n",
              "      --bg-color: #3B4455;\n",
              "      --fill-color: #D2E3FC;\n",
              "      --hover-bg-color: #434B5C;\n",
              "      --hover-fill-color: #FFFFFF;\n",
              "      --disabled-bg-color: #3B4455;\n",
              "      --disabled-fill-color: #666;\n",
              "  }\n",
              "\n",
              "  .colab-df-quickchart {\n",
              "    background-color: var(--bg-color);\n",
              "    border: none;\n",
              "    border-radius: 50%;\n",
              "    cursor: pointer;\n",
              "    display: none;\n",
              "    fill: var(--fill-color);\n",
              "    height: 32px;\n",
              "    padding: 0;\n",
              "    width: 32px;\n",
              "  }\n",
              "\n",
              "  .colab-df-quickchart:hover {\n",
              "    background-color: var(--hover-bg-color);\n",
              "    box-shadow: 0 1px 2px rgba(60, 64, 67, 0.3), 0 1px 3px 1px rgba(60, 64, 67, 0.15);\n",
              "    fill: var(--button-hover-fill-color);\n",
              "  }\n",
              "\n",
              "  .colab-df-quickchart-complete:disabled,\n",
              "  .colab-df-quickchart-complete:disabled:hover {\n",
              "    background-color: var(--disabled-bg-color);\n",
              "    fill: var(--disabled-fill-color);\n",
              "    box-shadow: none;\n",
              "  }\n",
              "\n",
              "  .colab-df-spinner {\n",
              "    border: 2px solid var(--fill-color);\n",
              "    border-color: transparent;\n",
              "    border-bottom-color: var(--fill-color);\n",
              "    animation:\n",
              "      spin 1s steps(1) infinite;\n",
              "  }\n",
              "\n",
              "  @keyframes spin {\n",
              "    0% {\n",
              "      border-color: transparent;\n",
              "      border-bottom-color: var(--fill-color);\n",
              "      border-left-color: var(--fill-color);\n",
              "    }\n",
              "    20% {\n",
              "      border-color: transparent;\n",
              "      border-left-color: var(--fill-color);\n",
              "      border-top-color: var(--fill-color);\n",
              "    }\n",
              "    30% {\n",
              "      border-color: transparent;\n",
              "      border-left-color: var(--fill-color);\n",
              "      border-top-color: var(--fill-color);\n",
              "      border-right-color: var(--fill-color);\n",
              "    }\n",
              "    40% {\n",
              "      border-color: transparent;\n",
              "      border-right-color: var(--fill-color);\n",
              "      border-top-color: var(--fill-color);\n",
              "    }\n",
              "    60% {\n",
              "      border-color: transparent;\n",
              "      border-right-color: var(--fill-color);\n",
              "    }\n",
              "    80% {\n",
              "      border-color: transparent;\n",
              "      border-right-color: var(--fill-color);\n",
              "      border-bottom-color: var(--fill-color);\n",
              "    }\n",
              "    90% {\n",
              "      border-color: transparent;\n",
              "      border-bottom-color: var(--fill-color);\n",
              "    }\n",
              "  }\n",
              "</style>\n",
              "\n",
              "  <script>\n",
              "    async function quickchart(key) {\n",
              "      const quickchartButtonEl =\n",
              "        document.querySelector('#' + key + ' button');\n",
              "      quickchartButtonEl.disabled = true;  // To prevent multiple clicks.\n",
              "      quickchartButtonEl.classList.add('colab-df-spinner');\n",
              "      try {\n",
              "        const charts = await google.colab.kernel.invokeFunction(\n",
              "            'suggestCharts', [key], {});\n",
              "      } catch (error) {\n",
              "        console.error('Error during call to suggestCharts:', error);\n",
              "      }\n",
              "      quickchartButtonEl.classList.remove('colab-df-spinner');\n",
              "      quickchartButtonEl.classList.add('colab-df-quickchart-complete');\n",
              "    }\n",
              "    (() => {\n",
              "      let quickchartButtonEl =\n",
              "        document.querySelector('#df-0c3f5a26-4105-4fec-b99b-96fdd810410b button');\n",
              "      quickchartButtonEl.style.display =\n",
              "        google.colab.kernel.accessAllowed ? 'block' : 'none';\n",
              "    })();\n",
              "  </script>\n",
              "</div>\n",
              "    </div>\n",
              "  </div>\n"
            ],
            "application/vnd.google.colaboratory.intrinsic+json": {
              "type": "dataframe",
              "summary": "{\n  \"name\": \"pd\",\n  \"rows\": 30,\n  \"fields\": [\n    {\n      \"column\": \"Fitur\",\n      \"properties\": {\n        \"dtype\": \"string\",\n        \"num_unique_values\": 30,\n        \"samples\": [\n          \"concave_points3\",\n          \"compactness2\",\n          \"area3\"\n        ],\n        \"semantic_type\": \"\",\n        \"description\": \"\"\n      }\n    },\n    {\n      \"column\": \"Bobot\",\n      \"properties\": {\n        \"dtype\": \"number\",\n        \"std\": 0.5134276031926212,\n        \"min\": -1.1691493199763023,\n        \"max\": 1.5983154441193108,\n        \"num_unique_values\": 30,\n        \"samples\": [\n          0.7586703987373037,\n          -0.07619722970046638,\n          0.002259708428709928\n        ],\n        \"semantic_type\": \"\",\n        \"description\": \"\"\n      }\n    }\n  ]\n}"
            }
          },
          "metadata": {},
          "execution_count": 24
        }
      ]
    }
  ]
}